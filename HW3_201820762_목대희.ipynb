{
  "nbformat": 4,
  "nbformat_minor": 0,
  "metadata": {
    "colab": {
      "name": "HW3_201820762_목대희",
      "provenance": [],
      "collapsed_sections": [],
      "include_colab_link": true
    },
    "kernelspec": {
      "name": "python3",
      "display_name": "Python 3"
    },
    "language_info": {
      "name": "python"
    }
  },
  "cells": [
    {
      "cell_type": "markdown",
      "metadata": {
        "id": "view-in-github",
        "colab_type": "text"
      },
      "source": [
        "<a href=\"https://colab.research.google.com/github/DaeHee99/2022S-ML/blob/main/HW3_201820762_%EB%AA%A9%EB%8C%80%ED%9D%AC.ipynb\" target=\"_parent\"><img src=\"https://colab.research.google.com/assets/colab-badge.svg\" alt=\"Open In Colab\"/></a>"
      ]
    },
    {
      "cell_type": "markdown",
      "source": [
        "# **HW3 :: Parameter Tuning and Classifcation**"
      ],
      "metadata": {
        "id": "m1rbIpJvJD_m"
      }
    },
    {
      "cell_type": "markdown",
      "source": [
        "## 코랩과 구글 드라이브 연동 OR 로컬에서 파일 업로드\n",
        "- 해당 섹션 코드 수정 가능"
      ],
      "metadata": {
        "id": "6c34x6aJI_kE"
      }
    },
    {
      "cell_type": "code",
      "source": [
        "# 연동 OR 파일 업로드\n",
        "# 연동 시 path 설정 주의"
      ],
      "metadata": {
        "id": "PLXjmIbsJMlk"
      },
      "execution_count": null,
      "outputs": []
    },
    {
      "cell_type": "code",
      "source": [
        "from google.colab import drive\n",
        "drive.mount('/content/drive')"
      ],
      "metadata": {
        "colab": {
          "base_uri": "https://localhost:8080/"
        },
        "id": "4VXRY6hDJ60i",
        "outputId": "03935015-bcc1-421a-fb7c-1cffcf8eaaa0"
      },
      "execution_count": null,
      "outputs": [
        {
          "output_type": "stream",
          "name": "stdout",
          "text": [
            "Mounted at /content/drive\n"
          ]
        }
      ]
    },
    {
      "cell_type": "markdown",
      "source": [
        "## 데이터 불러오기"
      ],
      "metadata": {
        "id": "HR6Kw9YhJV8A"
      }
    },
    {
      "cell_type": "code",
      "execution_count": 127,
      "metadata": {
        "id": "29BsCuUtKjKA"
      },
      "outputs": [],
      "source": [
        "import numpy as np\n",
        "import pandas as pd"
      ]
    },
    {
      "cell_type": "code",
      "source": [
        "path = 'heart_clean.csv' # 제공된 csv 파일 사용\n",
        "df = pd.read_csv(path)"
      ],
      "metadata": {
        "id": "KCR3D9shItY9"
      },
      "execution_count": 128,
      "outputs": []
    },
    {
      "cell_type": "code",
      "source": [
        "df.head()"
      ],
      "metadata": {
        "colab": {
          "base_uri": "https://localhost:8080/",
          "height": 206
        },
        "id": "S9v7sEpoL0jf",
        "outputId": "e105749a-6e3b-4054-a26c-efd8e7561d91"
      },
      "execution_count": 129,
      "outputs": [
        {
          "output_type": "execute_result",
          "data": {
            "text/plain": [
              "   Age  RestingBP  FastingBS  ExerciseAngina  Oldpeak  HeartDisease\n",
              "0   53        120          0               0      0.0             0\n",
              "1   65        134          0               1      1.1             1\n",
              "2   60        160          0               1      0.5             1\n",
              "3   57        150          1               0      0.2             0\n",
              "4   57        150          0               1      0.6             1"
            ],
            "text/html": [
              "\n",
              "  <div id=\"df-85120b30-1269-4e75-b012-5e47f6996fd2\">\n",
              "    <div class=\"colab-df-container\">\n",
              "      <div>\n",
              "<style scoped>\n",
              "    .dataframe tbody tr th:only-of-type {\n",
              "        vertical-align: middle;\n",
              "    }\n",
              "\n",
              "    .dataframe tbody tr th {\n",
              "        vertical-align: top;\n",
              "    }\n",
              "\n",
              "    .dataframe thead th {\n",
              "        text-align: right;\n",
              "    }\n",
              "</style>\n",
              "<table border=\"1\" class=\"dataframe\">\n",
              "  <thead>\n",
              "    <tr style=\"text-align: right;\">\n",
              "      <th></th>\n",
              "      <th>Age</th>\n",
              "      <th>RestingBP</th>\n",
              "      <th>FastingBS</th>\n",
              "      <th>ExerciseAngina</th>\n",
              "      <th>Oldpeak</th>\n",
              "      <th>HeartDisease</th>\n",
              "    </tr>\n",
              "  </thead>\n",
              "  <tbody>\n",
              "    <tr>\n",
              "      <th>0</th>\n",
              "      <td>53</td>\n",
              "      <td>120</td>\n",
              "      <td>0</td>\n",
              "      <td>0</td>\n",
              "      <td>0.0</td>\n",
              "      <td>0</td>\n",
              "    </tr>\n",
              "    <tr>\n",
              "      <th>1</th>\n",
              "      <td>65</td>\n",
              "      <td>134</td>\n",
              "      <td>0</td>\n",
              "      <td>1</td>\n",
              "      <td>1.1</td>\n",
              "      <td>1</td>\n",
              "    </tr>\n",
              "    <tr>\n",
              "      <th>2</th>\n",
              "      <td>60</td>\n",
              "      <td>160</td>\n",
              "      <td>0</td>\n",
              "      <td>1</td>\n",
              "      <td>0.5</td>\n",
              "      <td>1</td>\n",
              "    </tr>\n",
              "    <tr>\n",
              "      <th>3</th>\n",
              "      <td>57</td>\n",
              "      <td>150</td>\n",
              "      <td>1</td>\n",
              "      <td>0</td>\n",
              "      <td>0.2</td>\n",
              "      <td>0</td>\n",
              "    </tr>\n",
              "    <tr>\n",
              "      <th>4</th>\n",
              "      <td>57</td>\n",
              "      <td>150</td>\n",
              "      <td>0</td>\n",
              "      <td>1</td>\n",
              "      <td>0.6</td>\n",
              "      <td>1</td>\n",
              "    </tr>\n",
              "  </tbody>\n",
              "</table>\n",
              "</div>\n",
              "      <button class=\"colab-df-convert\" onclick=\"convertToInteractive('df-85120b30-1269-4e75-b012-5e47f6996fd2')\"\n",
              "              title=\"Convert this dataframe to an interactive table.\"\n",
              "              style=\"display:none;\">\n",
              "        \n",
              "  <svg xmlns=\"http://www.w3.org/2000/svg\" height=\"24px\"viewBox=\"0 0 24 24\"\n",
              "       width=\"24px\">\n",
              "    <path d=\"M0 0h24v24H0V0z\" fill=\"none\"/>\n",
              "    <path d=\"M18.56 5.44l.94 2.06.94-2.06 2.06-.94-2.06-.94-.94-2.06-.94 2.06-2.06.94zm-11 1L8.5 8.5l.94-2.06 2.06-.94-2.06-.94L8.5 2.5l-.94 2.06-2.06.94zm10 10l.94 2.06.94-2.06 2.06-.94-2.06-.94-.94-2.06-.94 2.06-2.06.94z\"/><path d=\"M17.41 7.96l-1.37-1.37c-.4-.4-.92-.59-1.43-.59-.52 0-1.04.2-1.43.59L10.3 9.45l-7.72 7.72c-.78.78-.78 2.05 0 2.83L4 21.41c.39.39.9.59 1.41.59.51 0 1.02-.2 1.41-.59l7.78-7.78 2.81-2.81c.8-.78.8-2.07 0-2.86zM5.41 20L4 18.59l7.72-7.72 1.47 1.35L5.41 20z\"/>\n",
              "  </svg>\n",
              "      </button>\n",
              "      \n",
              "  <style>\n",
              "    .colab-df-container {\n",
              "      display:flex;\n",
              "      flex-wrap:wrap;\n",
              "      gap: 12px;\n",
              "    }\n",
              "\n",
              "    .colab-df-convert {\n",
              "      background-color: #E8F0FE;\n",
              "      border: none;\n",
              "      border-radius: 50%;\n",
              "      cursor: pointer;\n",
              "      display: none;\n",
              "      fill: #1967D2;\n",
              "      height: 32px;\n",
              "      padding: 0 0 0 0;\n",
              "      width: 32px;\n",
              "    }\n",
              "\n",
              "    .colab-df-convert:hover {\n",
              "      background-color: #E2EBFA;\n",
              "      box-shadow: 0px 1px 2px rgba(60, 64, 67, 0.3), 0px 1px 3px 1px rgba(60, 64, 67, 0.15);\n",
              "      fill: #174EA6;\n",
              "    }\n",
              "\n",
              "    [theme=dark] .colab-df-convert {\n",
              "      background-color: #3B4455;\n",
              "      fill: #D2E3FC;\n",
              "    }\n",
              "\n",
              "    [theme=dark] .colab-df-convert:hover {\n",
              "      background-color: #434B5C;\n",
              "      box-shadow: 0px 1px 3px 1px rgba(0, 0, 0, 0.15);\n",
              "      filter: drop-shadow(0px 1px 2px rgba(0, 0, 0, 0.3));\n",
              "      fill: #FFFFFF;\n",
              "    }\n",
              "  </style>\n",
              "\n",
              "      <script>\n",
              "        const buttonEl =\n",
              "          document.querySelector('#df-85120b30-1269-4e75-b012-5e47f6996fd2 button.colab-df-convert');\n",
              "        buttonEl.style.display =\n",
              "          google.colab.kernel.accessAllowed ? 'block' : 'none';\n",
              "\n",
              "        async function convertToInteractive(key) {\n",
              "          const element = document.querySelector('#df-85120b30-1269-4e75-b012-5e47f6996fd2');\n",
              "          const dataTable =\n",
              "            await google.colab.kernel.invokeFunction('convertToInteractive',\n",
              "                                                     [key], {});\n",
              "          if (!dataTable) return;\n",
              "\n",
              "          const docLinkHtml = 'Like what you see? Visit the ' +\n",
              "            '<a target=\"_blank\" href=https://colab.research.google.com/notebooks/data_table.ipynb>data table notebook</a>'\n",
              "            + ' to learn more about interactive tables.';\n",
              "          element.innerHTML = '';\n",
              "          dataTable['output_type'] = 'display_data';\n",
              "          await google.colab.output.renderOutput(dataTable, element);\n",
              "          const docLink = document.createElement('div');\n",
              "          docLink.innerHTML = docLinkHtml;\n",
              "          element.appendChild(docLink);\n",
              "        }\n",
              "      </script>\n",
              "    </div>\n",
              "  </div>\n",
              "  "
            ]
          },
          "metadata": {},
          "execution_count": 129
        }
      ]
    },
    {
      "cell_type": "markdown",
      "source": [
        "## 데이터 나누기"
      ],
      "metadata": {
        "id": "fZDTxR6wKuPO"
      }
    },
    {
      "cell_type": "markdown",
      "source": [
        "### **주의 사항**\n",
        "train_test_split에 random seed를 사용하여 split set을 고정한다.\n",
        "- 모든 문제에 같은 random seed를 부여할 필요는 없다.\n"
      ],
      "metadata": {
        "id": "h5enxbYKbAhW"
      }
    },
    {
      "cell_type": "code",
      "source": [
        "from sklearn.model_selection import train_test_split\n",
        "\n",
        "X = df.drop('HeartDisease', axis=1)\n",
        "y = df['HeartDisease']\n",
        "  \n",
        "X_train, X_test, y_train, y_test = train_test_split(X, y, test_size=0.1)\n",
        "X_train, X_val, y_train, y_val = train_test_split(X_train, y_train, test_size=1/9)\n",
        "\n",
        "print(\"X_train's shape : \", X_train.shape)\n",
        "print(\"y_train's shape : \", y_train.shape)\n",
        "print(\"\\nX_val's shape : \", X_val.shape)\n",
        "print(\"y_val's shape : \", y_val.shape)\n",
        "print(\"\\nX_test's shape : \", X_test.shape)\n",
        "print(\"y_test's shape : \", y_test.shape)"
      ],
      "metadata": {
        "colab": {
          "base_uri": "https://localhost:8080/"
        },
        "id": "V1zQHUKdKWFz",
        "outputId": "662e0e14-b610-43e4-8035-11e7e0cc1be4"
      },
      "execution_count": 130,
      "outputs": [
        {
          "output_type": "stream",
          "name": "stdout",
          "text": [
            "X_train's shape :  (568, 5)\n",
            "y_train's shape :  (568,)\n",
            "\n",
            "X_val's shape :  (71, 5)\n",
            "y_val's shape :  (71,)\n",
            "\n",
            "X_test's shape :  (71, 5)\n",
            "y_test's shape :  (71,)\n"
          ]
        }
      ]
    },
    {
      "cell_type": "markdown",
      "source": [
        "\n",
        "\n",
        "---\n",
        "\n"
      ],
      "metadata": {
        "id": "wkJmRTz_jNTP"
      }
    },
    {
      "cell_type": "markdown",
      "source": [
        "## 문제1 KNN\n",
        "\n",
        "\n",
        "\n",
        "- Scikit-learn 라이브러리를 이용하여 KNN의 최적의 파라미터를 찾는다.\n",
        "    - 최근접 이웃을 찾기 위한 거리의 종류로 최소한 두 가지 이상의 거리 척도를 사용한다.\n",
        "    - K값을 최소 3개 이상 비교한다.\n",
        "    - 거리 척도, k값에 따라 train, validation 정확도를 한 그래프로 그린다.(x축 k값, y축 정확도)\n",
        "    - 찾은 최적의 파라미터와 test set 이용하여 test_accuracy 계산하고 기입한다.\n",
        "    - 최적의 파라미터를 찾은 것에 대한 설명을 '텍스트 셀'에 작성한다.\n",
        "\n"
      ],
      "metadata": {
        "id": "P5Gr-LZOLCSP"
      }
    },
    {
      "cell_type": "code",
      "source": [
        "### 문제 1 ###\n",
        "## 코드 작성 ##\n",
        "from sklearn.neighbors import KNeighborsClassifier\n",
        "from sklearn.metrics import accuracy_score\n",
        "import matplotlib.pyplot as plt\n",
        "\n",
        "K = [1, 3, 5, 10, 50, 100, 150, 200, 250, 300, 400, 500]  # 비교할 K 값 후보\n",
        "dis_metric = [\"euclidean\", \"chebyshev\"]  # 2가지 거리 척도\n",
        "\n",
        "# train_test_split에 random seed(16)를 사용하여 split set을 고정\n",
        "X_train, X_test, y_train, y_test = train_test_split(X, y, test_size=0.1, random_state=16)\n",
        "X_train, X_val, y_train, y_val = train_test_split(X_train, y_train, test_size=1/9, random_state=16)\n",
        "\n",
        "plt.figure()\n",
        "\n",
        "for DM in dis_metric:\n",
        "  train_acc = []\n",
        "  val_acc = []\n",
        "  for k in K:\n",
        "    # knn classifier 생성\n",
        "    knn = KNeighborsClassifier(n_neighbors=k, weights=\"distance\", metric=DM)\n",
        "    # training data를 사용하여 모델 training\n",
        "    knn.fit(X_train, y_train)\n",
        "\n",
        "    # train set에 대해 predict를 진행\n",
        "    result = knn.predict(X_train)\n",
        "    # 실제 label과 예측한 label의 score를 계산해 train accuracy를 구한다.\n",
        "    train_acc.append(accuracy_score(y_train, result)) \n",
        "\n",
        "    # validation set에 대해 predict를 진행\n",
        "    result = knn.predict(X_val)\n",
        "    # 실제 label과 예측한 label의 score를 계산해 validation accuracy를 구한다.\n",
        "    val_acc.append(accuracy_score(y_val, result))\n",
        "\n",
        "  plt.plot(K, train_acc, label=DM + \"'s train accuracy\")\n",
        "  plt.plot(K, val_acc, label=DM + \"'s validation accuracy\")\n",
        "\n",
        "plt.legend() # 범례 표시\n",
        "plt.xlabel('K')\n",
        "plt.ylabel('accuracy')\n"
      ],
      "metadata": {
        "id": "ME76ne9cdSMa",
        "colab": {
          "base_uri": "https://localhost:8080/",
          "height": 298
        },
        "outputId": "7f11b18b-bf10-4cd6-cb0e-7bb5361695c6"
      },
      "execution_count": 131,
      "outputs": [
        {
          "output_type": "execute_result",
          "data": {
            "text/plain": [
              "Text(0, 0.5, 'accuracy')"
            ]
          },
          "metadata": {},
          "execution_count": 131
        },
        {
          "output_type": "display_data",
          "data": {
            "text/plain": [
              "<Figure size 432x288 with 1 Axes>"
            ],
            "image/png": "[encoded data removed]"
          },
          "metadata": {
            "needs_background": "light"
          }
        }
      ]
    },
    {
      "cell_type": "code",
      "source": [
        "# 최적의 파라미터(k = 100, 거리 척도 = \"euclidean\")를 사용한 knn 모델\n",
        "knn = KNeighborsClassifier(n_neighbors=100, weights=\"distance\", metric=\"euclidean\")\n",
        "# train set과 validation set을 합쳐서 fit\n",
        "knn.fit(pd.concat([X_train,X_val]), pd.concat([y_train,y_val]))\n",
        "\n",
        "# test set에 대해 predict를 진행\n",
        "result = knn.predict(X_test)\n",
        "# 실제 label과 예측한 label의 score를 계산해 test accuracy를 구한다.\n",
        "print(\"test_accuracy = \", accuracy_score(y_test, result))"
      ],
      "metadata": {
        "colab": {
          "base_uri": "https://localhost:8080/"
        },
        "id": "dyH8u0YAmCfJ",
        "outputId": "48f403e3-d453-493e-ccef-9b4d4a141069"
      },
      "execution_count": 132,
      "outputs": [
        {
          "output_type": "stream",
          "name": "stdout",
          "text": [
            "test_accuracy =  0.5915492957746479\n"
          ]
        }
      ]
    },
    {
      "cell_type": "markdown",
      "source": [
        "**설명 작성**  \n",
        "- 최적의 파라미터: k = 100, metric = \"euclidean\"\n",
        "- 설명: 위의 그래프를 살펴보면, 여러 가지 k 값을 통해 validation을 수행한 결과, euclidean 거리 척도와 chebyshev 거리 척도 모두에서 k가 100일 때에 validation accuracy가 가장 높은 경향을 보였다. 또한 k가 100일 때뿐만 아니라 모든 k 값에서 전체적으로 chebyshev보다 euclidean 거리 척도를 사용했을 때에 validation accuracy가 높았다."
      ],
      "metadata": {
        "id": "8-BMEqCFdfsR"
      }
    },
    {
      "cell_type": "markdown",
      "source": [
        "\n",
        "\n",
        "---\n",
        "\n"
      ],
      "metadata": {
        "id": "kHaSKoowjPp7"
      }
    },
    {
      "cell_type": "markdown",
      "source": [
        "## 문제2 SVM\n",
        "\n",
        "\n",
        "- Scikit-learn 라이브러리를 이용하여 SVM의 최적의 파라미터를 찾는다.\n",
        "    - Kernel trick 중 최소 두개를 비교한다.\n",
        "    - 최적의 파라미터 C값을 찾는다.\n",
        "    - 파라미터에 따라 train, validation 정확도를 한 그래프로 그린다.(x축 C값, y축 정확도)\n",
        "    - 찾은 최적의 파라미터와 test set을 이용하여 test accuracy를 계산하고 기입한다.\n",
        "    - 최적의 파라미터를 찾은 것에 대한 설명을 '텍스트 셀'에 작성한다.\n"
      ],
      "metadata": {
        "id": "VA0mzbsiaOoH"
      }
    },
    {
      "cell_type": "code",
      "source": [
        "### 문제 2 ###\n",
        "## 코드 작성 ##\n",
        "from sklearn.svm import SVC   # Support vector classifier\n",
        "\n",
        "c_val = [0.001, 0.01, 0.1, 1.0, 5.0, 10.0, 30.0, 50.0, 70.0, 100.0]   # 비교할 C 값 후보\n",
        "kernel_trick = [\"linear\", \"rbf\"]   # 2가지 Kernel trick\n",
        "\n",
        "# train_test_split에 random seed(1)를 사용하여 split set을 고정\n",
        "X_train, X_test, y_train, y_test = train_test_split(X, y, test_size=0.1, random_state=10)\n",
        "X_train, X_val, y_train, y_val = train_test_split(X_train, y_train, test_size=1/9, random_state=10)\n",
        "\n",
        "plt.figure()\n",
        "\n",
        "for k in kernel_trick:\n",
        "  train_acc = []\n",
        "  val_acc = []\n",
        "  for c in c_val:\n",
        "    # SVM classifier 생성\n",
        "    my_svm = SVC(kernel=k, C = c)\n",
        "    # training data를 사용하여 모델 training\n",
        "    my_svm.fit(X_train, y_train)\n",
        "\n",
        "    # train set에 대해 predict를 진행\n",
        "    result = my_svm.predict(X_train)\n",
        "    # 실제 label과 예측한 label의 score를 계산해 train accuracy를 구한다.\n",
        "    train_acc.append(accuracy_score(y_train, result))\n",
        "\n",
        "    # validation set에 대해 predict를 진행\n",
        "    result = my_svm.predict(X_val)\n",
        "    # 실제 label과 예측한 label의 score를 계산해 validation accuracy를 구한다.\n",
        "    val_acc.append(accuracy_score(y_val, result))\n",
        "\n",
        "  plt.plot(c_val, train_acc, label=k + \"'s train accuracy\")\n",
        "  plt.plot(c_val, val_acc, label=k + \"'s validation accuracy\")\n",
        "\n",
        "plt.legend() # 범례 표시\n",
        "plt.xlabel('C')\n",
        "plt.ylabel('accuracy')"
      ],
      "metadata": {
        "id": "zZdkdlyMeH_Y",
        "colab": {
          "base_uri": "https://localhost:8080/",
          "height": 298
        },
        "outputId": "f6e900b1-d35b-4269-8e5d-c5d487f3d033"
      },
      "execution_count": 133,
      "outputs": [
        {
          "output_type": "execute_result",
          "data": {
            "text/plain": [
              "Text(0, 0.5, 'accuracy')"
            ]
          },
          "metadata": {},
          "execution_count": 133
        },
        {
          "output_type": "display_data",
          "data": {
            "text/plain": [
              "<Figure size 432x288 with 1 Axes>"
            ],
            "image/png": "[encoded data removed]"
          },
          "metadata": {
            "needs_background": "light"
          }
        }
      ]
    },
    {
      "cell_type": "code",
      "source": [
        "# 최적의 파라미터(C = 50.0, Kernel trick = \"linear\")를 사용한 SVM 모델\n",
        "my_svm = SVC(kernel=\"linear\", C=50.0)\n",
        "# train set과 validation set을 합쳐서 fit\n",
        "my_svm.fit(pd.concat([X_train,X_val]), pd.concat([y_train,y_val]))\n",
        "\n",
        "# test set에 대해 predict\n",
        "result = my_svm.predict(X_test)\n",
        "# 실제 label과 예측한 label의 score를 계산해 test accuracy를 구한다.\n",
        "print(\"test_accuracy = \", accuracy_score(y_test, result))"
      ],
      "metadata": {
        "colab": {
          "base_uri": "https://localhost:8080/"
        },
        "id": "SVEOFd2yz95j",
        "outputId": "154bcfc9-6715-4f75-f8f6-18b231305c39"
      },
      "execution_count": 11,
      "outputs": [
        {
          "output_type": "stream",
          "name": "stdout",
          "text": [
            "test_accuracy =  0.8169014084507042\n"
          ]
        }
      ]
    },
    {
      "cell_type": "markdown",
      "source": [
        "**설명 작성**  \n",
        "- 최적의 파라미터: C = 50.0, Kernel trick = \"linear\"\n",
        "- 설명: 위의 그래프를 살펴보면, 여러 가지 C 값을 통해 validation을 수행한 결과, \"linear\" Kernel trick과 \"rbf\" Kernel trick 모두에서 C가 50.0일 때에 validation accuracy가 가장 높은 경향을 보였다. 또한 C가 50.0일 때뿐만 아니라 모든 C 값에서 전체적으로 \"rbf\"보다 \"linear\" Kernel trick을 사용했을 때에 validation accuracy가 높았다."
      ],
      "metadata": {
        "id": "y47YT_IleHKq"
      }
    },
    {
      "cell_type": "markdown",
      "source": [
        "\n",
        "\n",
        "---\n",
        "\n"
      ],
      "metadata": {
        "id": "jFA8FPDKkjHC"
      }
    },
    {
      "cell_type": "markdown",
      "source": [
        "## 문제3 Cross validation with Random Forest\n",
        "### 3-1: k-fold\n",
        "- 수업시간에 배운 **5-fold** 를 이용하여 최적의 파라미터를 찾는다. (데이터는 동일)\n",
        "- 수업시간에 배운 random forest 모델의 파라미터를 cross-validation을 바탕으로 최적화한다.\n",
        "    - **5-fold CV를 할 때, test data를 제외한 90%의 데이터를 사용해야한다.**\n",
        "    - 파라미터에 따라 K-fold CV를 통해 나온 평균 정확도와 각 fold의 정확도들을 한 그래프로 그린다.(x축 선택한 파라미터, y축 정확도)\n",
        "    - 찾은 최적의 파라미터와 test set을 이용하여 test accuracy를 계산하고 기입한다.\n",
        "    - 최적의 파라미터를 찾은 것에 대한 설명을 '텍스트 셀'에 작성한다.\n",
        "\n",
        "### 3-2: Leave One Out\n",
        "- 수업시간에 배운 Leave-One-Out 를 이용하여 최적의 파라미터를 찾는다. (데이터는 동일)\n",
        "- 수업시간에 배운 random forest 모델의 파라미터를 cross-validation을 바탕으로 최적화한다.\n",
        "  - **Leave-One-Out CV를 할 때, test data를 제외한 90%의 데이터를 사용해야한다.**\n",
        "  - 파라미터에 따라 Leave-One-Out CV를 통해 나온 평균 정확도를 그래프로 그린다.(x축 선택한 파라미터, y축 정확도)\n",
        "  - 찾은 최적의 파라미터와 test set을 이용하여 test accuracy를 계산하고 기입한다.\n",
        "  - 최적의 파라미터를 찾은 것에 대한 설명을 '텍스트 셀'에 작성한다."
      ],
      "metadata": {
        "id": "cl1b3f3AaZUw"
      }
    },
    {
      "cell_type": "code",
      "source": [
        "### 문제 3-1 ###\n",
        "## 코드 작성 ##\n",
        "from sklearn.ensemble import RandomForestClassifier   # Random Forest\n",
        "from sklearn.model_selection import KFold   # k-fold\n",
        "\n",
        "# train_test_split에 random seed(10)를 사용하여 split set을 고정\n",
        "# training과 cross validation에 사용할 데이터 = 전체 데이터의 90% (나머지는 test data)\n",
        "X_train, X_test, y_train, y_test = train_test_split(X, y, test_size=0.1, random_state=10)\n",
        "X_train.reset_index(drop=True, inplace=True)\n",
        "X_test.reset_index(drop=True, inplace=True)\n",
        "y_train.reset_index(drop=True, inplace=True)\n",
        "y_test.reset_index(drop=True, inplace=True)\n",
        "\n",
        "plt.figure()\n",
        "\n",
        "mean_acc = []  # 각 파라미터에 따라 K-fold CV를 통해 나온 평균 정확도\n",
        "kfold = KFold(n_splits=5)  # 5-fold CV\n",
        "num_of_trees = [n for n in range(10,101,10)]  # random forest 모델의 파라미터 (n_estimators) 후보\n",
        "\n",
        "for n in num_of_trees:\n",
        "  # Random Forest Classifier 생성\n",
        "  RandomForest = RandomForestClassifier(n_estimators=n, random_state=0)\n",
        "  n_acc = []  # 파라미터(n)의 5-fold CV를 통해 나온 정확도 (5개)\n",
        "\n",
        "  for train_index, test_index in kfold.split(X_train):\n",
        "    # 5-fold CV에 따라 train data를 train set과 test set으로 나눈다 (원래의 test data는 관여 X)\n",
        "    X_train_fold, X_test_fold = X_train.loc[train_index], X_train.loc[test_index]\n",
        "    y_train_fold, y_test_fold = y_train.loc[train_index], y_train.loc[test_index]\n",
        "\n",
        "    # 각 fold의 training data를 사용하여 모델 training\n",
        "    RandomForest.fit(X_train_fold, y_train_fold)\n",
        "\n",
        "    # 각 fold의 test set에 대해 predict를 진행한다.\n",
        "    result = RandomForest.predict(X_test_fold)\n",
        "    # 실제 label과 예측한 label의 score를 계산해 각 fold test accuracy를 구한다.\n",
        "    n_acc.append(accuracy_score(y_test_fold, result))\n",
        "\n",
        "  mean_acc.append(np.mean(n_acc))  # 각 파라미터의 5-fold CV를 통해 나온 평균 정확도\n",
        "  plt.plot([n]*5, n_acc, 'g.')   # 각 파라미터의 5-fold CV를 통해 나온 각 fold의 정확도를 그래프에 점으로 찍음.\n",
        "\n",
        "# 모든 파라미터의 5-fold CV를 통해 나온 평균 정확도를 그래프에 그림.\n",
        "plt.plot(num_of_trees, mean_acc, label=\"accuracy mean\")\n",
        "\n",
        "plt.legend() # 범례 표시\n",
        "plt.xlabel('n_estimators (number of trees)')\n",
        "plt.ylabel('accuracy')"
      ],
      "metadata": {
        "id": "fYNny36efEF3",
        "colab": {
          "base_uri": "https://localhost:8080/",
          "height": 300
        },
        "outputId": "231f1c2d-acc0-4545-bd70-0076b7fe774a"
      },
      "execution_count": 12,
      "outputs": [
        {
          "output_type": "execute_result",
          "data": {
            "text/plain": [
              "Text(0, 0.5, 'accuracy')"
            ]
          },
          "metadata": {},
          "execution_count": 12
        },
        {
          "output_type": "display_data",
          "data": {
            "text/plain": [
              "<Figure size 432x288 with 1 Axes>"
            ],
            "image/png": "[encoded data removed]"
          },
          "metadata": {
            "needs_background": "light"
          }
        }
      ]
    },
    {
      "cell_type": "code",
      "source": [
        "# 최적의 파라미터(n_estimators = 40)를 사용한 Random Forest 모델\n",
        "RandomForest = RandomForestClassifier(n_estimators=40, random_state=0)\n",
        "# train set을 사용하여 모델 training\n",
        "RandomForest.fit(X_train, y_train)\n",
        "\n",
        "# test set에 대해 predict\n",
        "result = RandomForest.predict(X_test)\n",
        "# 실제 label과 예측한 label의 score를 계산해 test accuracy를 구한다.\n",
        "print(\"test_accuracy = \", accuracy_score(y_test, result))"
      ],
      "metadata": {
        "colab": {
          "base_uri": "https://localhost:8080/"
        },
        "id": "ChbnzzLz0-Ru",
        "outputId": "d3bdf41c-cbaf-4dfa-ccc7-39bafde13fab"
      },
      "execution_count": 13,
      "outputs": [
        {
          "output_type": "stream",
          "name": "stdout",
          "text": [
            "test_accuracy =  0.8169014084507042\n"
          ]
        }
      ]
    },
    {
      "cell_type": "markdown",
      "source": [
        "**설명 작성**  \n",
        "- test accuracy: 0.8169014084507042\n",
        "- 최적의 파라미터: n_estimators = 40\n",
        "- 설명: 위의 그래프를 살펴보면, 여러 가지 n_estimators hyper-parameter 값을 통해 5-fold cross validation을 수행한 결과, n_estimators 값이 40일 때에 5-fold CV를 통해 나온 평균 정확도가 가장 높았다. 또한 n_estimators 값이 40일 때, 각 fold의 정확도 중 최대값과 최소값이 다른 n_estimators 값의 fold 정확도 최대값과 최소값보다 모두 높았다.\n",
        "\n"
      ],
      "metadata": {
        "id": "2xvEdCHAfH0g"
      }
    },
    {
      "cell_type": "code",
      "source": [
        "### 문제 3-2 ###\n",
        "## 코드 작성 ##\n",
        "from sklearn.ensemble import RandomForestClassifier   # Random Forest\n",
        "from sklearn.model_selection import LeaveOneOut   # Leave-One-Out\n",
        "\n",
        "# train_test_split에 random seed(10)를 사용하여 split set을 고정\n",
        "# training과 cross validation에 사용할 데이터 = 전체 데이터의 90% (나머지는 test data)\n",
        "X_train, X_test, y_train, y_test = train_test_split(X, y, test_size=0.1, random_state=10)\n",
        "X_train.reset_index(drop=True, inplace=True)\n",
        "X_test.reset_index(drop=True, inplace=True)\n",
        "y_train.reset_index(drop=True, inplace=True)\n",
        "y_test.reset_index(drop=True, inplace=True)\n",
        "\n",
        "plt.figure()\n",
        "\n",
        "mean_acc = []  # 각 파라미터에 따라 Leave-One-Out CV를 통해 나온 평균 정확도\n",
        "loo = LeaveOneOut()  # Leave-One-Out CV\n",
        "num_of_trees = [n for n in range(10,101,10)]  # random forest 모델의 파라미터 (n_estimators) 후보\n",
        "\n",
        "for n in num_of_trees:\n",
        "  # Random Forest Classifier 생성\n",
        "  RandomForest = RandomForestClassifier(n_estimators=n, random_state=0)\n",
        "  n_acc = []  # 파라미터(n)의 Leave-One-Out CV를 통해 나온 정확도\n",
        "\n",
        "  for train_index, test_index in loo.split(X_train):\n",
        "    # Leave-One-Out CV에 따라 train data를 train set과 test set으로 나눈다, (원래의 test data는 관여 X)\n",
        "    X_train_loo, X_test_loo = X_train.loc[train_index], X_train.loc[test_index]\n",
        "    y_train_loo, y_test_loo = y_train.loc[train_index], y_train.loc[test_index]\n",
        "\n",
        "    # 각 단계의 training data를 사용하여 모델 training\n",
        "    RandomForest.fit(X_train_loo, y_train_loo)\n",
        "\n",
        "    # 각 단계의 test set에 대해 predict를 진행한다.\n",
        "    result = RandomForest.predict(X_test_loo)\n",
        "    # 실제 label과 예측한 label의 score를 계산해 각 단계의 test accuracy를 구한다.\n",
        "    n_acc.append(accuracy_score(y_test_loo, result))\n",
        "\n",
        "  mean_acc.append(np.mean(n_acc))  # 각 파라미터의 Leave-One-Out CV를 통해 나온 평균 정확도\n",
        "\n",
        "# 모든 파라미터의 Leave-One-Out CV를 통해 나온 평균 정확도를 그래프에 그림.\n",
        "plt.plot(num_of_trees, mean_acc, label=\"accuracy mean\")\n",
        "\n",
        "plt.legend() # 범례 표시\n",
        "plt.xlabel('n_estimators (number of trees)')\n",
        "plt.ylabel('accuracy')"
      ],
      "metadata": {
        "id": "80a5iRmvfG6H",
        "colab": {
          "base_uri": "https://localhost:8080/",
          "height": 299
        },
        "outputId": "08d8db21-4577-4d8c-cf7c-43fe00376823"
      },
      "execution_count": 14,
      "outputs": [
        {
          "output_type": "execute_result",
          "data": {
            "text/plain": [
              "Text(0, 0.5, 'accuracy')"
            ]
          },
          "metadata": {},
          "execution_count": 14
        },
        {
          "output_type": "display_data",
          "data": {
            "text/plain": [
              "<Figure size 432x288 with 1 Axes>"
            ],
            "image/png": "[encoded data removed]"
          },
          "metadata": {
            "needs_background": "light"
          }
        }
      ]
    },
    {
      "cell_type": "code",
      "source": [
        "# 최적의 파라미터(n_estimators = 50)를 사용한 Random Forest 모델\n",
        "RandomForest = RandomForestClassifier(n_estimators=50, random_state=0)\n",
        "# train set을 사용하여 모델 training\n",
        "RandomForest.fit(X_train, y_train)\n",
        "\n",
        "# test set에 대해 predict\n",
        "result = RandomForest.predict(X_test)\n",
        "# 실제 label과 예측한 label의 score를 계산해 test accuracy를 구한다.\n",
        "print(\"test_accuracy = \", accuracy_score(y_test, result))"
      ],
      "metadata": {
        "colab": {
          "base_uri": "https://localhost:8080/"
        },
        "id": "vTMR7pEaAtJX",
        "outputId": "e9fb98e7-9fa0-43c5-8172-984c5c99efd9"
      },
      "execution_count": 15,
      "outputs": [
        {
          "output_type": "stream",
          "name": "stdout",
          "text": [
            "test_accuracy =  0.7887323943661971\n"
          ]
        }
      ]
    },
    {
      "cell_type": "markdown",
      "source": [
        "**설명 작성**  \n",
        "- test accuracy: 0.7887323943661971\n",
        "- 최적의 파라미터: n_estimators = 50\n",
        "- 설명: 위의 그래프를 살펴보면, 여러 가지 n_estimators hyper-parameter 값을 통해 Leave-One-Out cross validation을 수행한 결과, n_estimators 값이 50일 때에 Leave-One-Out CV를 통해 나온 평균 정확도가 가장 높았다. 또한 n_estimators 값이 90일 때에도 Leave-One-Out CV를 통해 나온 평균 정확도가 40과 비슷하게 높았지만, 90을 사용하면 overfitting 할 것 같아서 40을 선택했다."
      ],
      "metadata": {
        "id": "m9BqByTFfLIG"
      }
    },
    {
      "cell_type": "markdown",
      "source": [
        "\n",
        "\n",
        "---\n",
        "\n"
      ],
      "metadata": {
        "id": "BlvQjbXJkllk"
      }
    },
    {
      "cell_type": "markdown",
      "source": [
        "## 문제4 Regression\n",
        "문제 4 에서는 캘리포니아 주택 가격 데이터셋을 사용합니다.   \n",
        "학습을 통해 주택 가격을 예측하는 문제입니다.  \n",
        "데이터에 대한 자세한 설명은 아래 코드의 description을 참고해주세요."
      ],
      "metadata": {
        "id": "szX5GgcXfnM1"
      }
    },
    {
      "cell_type": "code",
      "source": [
        "from sklearn.datasets import fetch_california_housing\n",
        "housing = fetch_california_housing()\n",
        "print(housing.DESCR)"
      ],
      "metadata": {
        "colab": {
          "base_uri": "https://localhost:8080/"
        },
        "id": "v7mbmrTRinak",
        "outputId": "5e6c2d8a-74c2-406f-d179-e1bc2f34fed4"
      },
      "execution_count": 61,
      "outputs": [
        {
          "output_type": "stream",
          "name": "stdout",
          "text": [
            ".. _california_housing_dataset:\n",
            "\n",
            "California Housing dataset\n",
            "--------------------------\n",
            "\n",
            "**Data Set Characteristics:**\n",
            "\n",
            "    :Number of Instances: 20640\n",
            "\n",
            "    :Number of Attributes: 8 numeric, predictive attributes and the target\n",
            "\n",
            "    :Attribute Information:\n",
            "        - MedInc        median income in block group\n",
            "        - HouseAge      median house age in block group\n",
            "        - AveRooms      average number of rooms per household\n",
            "        - AveBedrms     average number of bedrooms per household\n",
            "        - Population    block group population\n",
            "        - AveOccup      average number of household members\n",
            "        - Latitude      block group latitude\n",
            "        - Longitude     block group longitude\n",
            "\n",
            "    :Missing Attribute Values: None\n",
            "\n",
            "This dataset was obtained from the StatLib repository.\n",
            "https://www.dcc.fc.up.pt/~ltorgo/Regression/cal_housing.html\n",
            "\n",
            "The target variable is the median house value for California districts,\n",
            "expressed in hundreds of thousands of dollars ($100,000).\n",
            "\n",
            "This dataset was derived from the 1990 U.S. census, using one row per census\n",
            "block group. A block group is the smallest geographical unit for which the U.S.\n",
            "Census Bureau publishes sample data (a block group typically has a population\n",
            "of 600 to 3,000 people).\n",
            "\n",
            "An household is a group of people residing within a home. Since the average\n",
            "number of rooms and bedrooms in this dataset are provided per household, these\n",
            "columns may take surpinsingly large values for block groups with few households\n",
            "and many empty houses, such as vacation resorts.\n",
            "\n",
            "It can be downloaded/loaded using the\n",
            ":func:`sklearn.datasets.fetch_california_housing` function.\n",
            "\n",
            ".. topic:: References\n",
            "\n",
            "    - Pace, R. Kelley and Ronald Barry, Sparse Spatial Autoregressions,\n",
            "      Statistics and Probability Letters, 33 (1997) 291-297\n",
            "\n"
          ]
        }
      ]
    },
    {
      "cell_type": "code",
      "source": [
        "df = pd.DataFrame(housing.data, columns=housing.feature_names)\n",
        "df['target'] = housing.target"
      ],
      "metadata": {
        "id": "beqDbNzQi0PR"
      },
      "execution_count": 62,
      "outputs": []
    },
    {
      "cell_type": "code",
      "source": [
        "print(df.head())"
      ],
      "metadata": {
        "colab": {
          "base_uri": "https://localhost:8080/"
        },
        "id": "Y-4fgqWCkd-o",
        "outputId": "dfc13482-e8f9-45ae-ee54-41b49d0e6eda"
      },
      "execution_count": 63,
      "outputs": [
        {
          "output_type": "stream",
          "name": "stdout",
          "text": [
            "   MedInc  HouseAge  AveRooms  AveBedrms  Population  AveOccup  Latitude  \\\n",
            "0  8.3252      41.0  6.984127   1.023810       322.0  2.555556     37.88   \n",
            "1  8.3014      21.0  6.238137   0.971880      2401.0  2.109842     37.86   \n",
            "2  7.2574      52.0  8.288136   1.073446       496.0  2.802260     37.85   \n",
            "3  5.6431      52.0  5.817352   1.073059       558.0  2.547945     37.85   \n",
            "4  3.8462      52.0  6.281853   1.081081       565.0  2.181467     37.85   \n",
            "\n",
            "   Longitude  target  \n",
            "0    -122.23   4.526  \n",
            "1    -122.22   3.585  \n",
            "2    -122.24   3.521  \n",
            "3    -122.25   3.413  \n",
            "4    -122.25   3.422  \n"
          ]
        }
      ]
    },
    {
      "cell_type": "code",
      "source": [
        "print(df.shape) #(20640, 9)\n",
        "print(df.describe())"
      ],
      "metadata": {
        "colab": {
          "base_uri": "https://localhost:8080/"
        },
        "id": "zoUn3ZXdkimJ",
        "outputId": "2aaf837f-452a-4ccf-dffd-acb353e98d04"
      },
      "execution_count": 64,
      "outputs": [
        {
          "output_type": "stream",
          "name": "stdout",
          "text": [
            "(20640, 9)\n",
            "             MedInc      HouseAge      AveRooms     AveBedrms    Population  \\\n",
            "count  20640.000000  20640.000000  20640.000000  20640.000000  20640.000000   \n",
            "mean       3.870671     28.639486      5.429000      1.096675   1425.476744   \n",
            "std        1.899822     12.585558      2.474173      0.473911   1132.462122   \n",
            "min        0.499900      1.000000      0.846154      0.333333      3.000000   \n",
            "25%        2.563400     18.000000      4.440716      1.006079    787.000000   \n",
            "50%        3.534800     29.000000      5.229129      1.048780   1166.000000   \n",
            "75%        4.743250     37.000000      6.052381      1.099526   1725.000000   \n",
            "max       15.000100     52.000000    141.909091     34.066667  35682.000000   \n",
            "\n",
            "           AveOccup      Latitude     Longitude        target  \n",
            "count  20640.000000  20640.000000  20640.000000  20640.000000  \n",
            "mean       3.070655     35.631861   -119.569704      2.068558  \n",
            "std       10.386050      2.135952      2.003532      1.153956  \n",
            "min        0.692308     32.540000   -124.350000      0.149990  \n",
            "25%        2.429741     33.930000   -121.800000      1.196000  \n",
            "50%        2.818116     34.260000   -118.490000      1.797000  \n",
            "75%        3.282261     37.710000   -118.010000      2.647250  \n",
            "max     1243.333333     41.950000   -114.310000      5.000010  \n"
          ]
        }
      ]
    },
    {
      "cell_type": "markdown",
      "source": [
        "### 문제 4-1 : Pearson Correlation\n",
        "- seaborn 패키지를 사용하여 pearson correlation heatmap을 그린다.\n",
        "- heatmap을 확인한 후 각 feature들 간 어떠한 관계가 있는지 아래의 텍스트 셀에 서술한다.    \n",
        "- target과 연관성이 높은 feature의 column들을 아래의 텍스트 셀에 기술한다.\n",
        "- 기술한 columns들과 target column을 포함하여 DataFrame을 만들고 **이후 모든 문제에서는 이 DataFrame을 사용한다**."
      ],
      "metadata": {
        "id": "G3_Z_2mO7WkB"
      }
    },
    {
      "cell_type": "code",
      "source": [
        "### 문제 4-1 ###\n",
        "# correlation map 작성 후 plot\n",
        "import seaborn as sns\n",
        "\n",
        "# correlation matrix 계산하기\n",
        "corr = df.corr()\n",
        "\n",
        "# 위 삼각형에대한 마스크 생성하기\n",
        "mask = np.triu(np.ones_like(corr, dtype=bool))\n",
        "\n",
        "# matplotlib figure 설정하기\n",
        "f, ax = plt.subplots(figsize=(11, 9))\n",
        "\n",
        "# colormap 설정하기\n",
        "cmap = sns.diverging_palette(230, 20, as_cmap=True)\n",
        "\n",
        "# heatmap 그리기\n",
        "sns.heatmap(corr, mask=mask, annot=True, cmap=cmap, vmin=-1, vmax=1, center=0,\n",
        "            square=True, linewidths=.5, cbar_kws={\"shrink\": .5})\n"
      ],
      "metadata": {
        "id": "3YiBgTBYFlOs",
        "colab": {
          "base_uri": "https://localhost:8080/",
          "height": 603
        },
        "outputId": "1b1597f1-7ec1-4523-d746-63286553840f"
      },
      "execution_count": 102,
      "outputs": [
        {
          "output_type": "execute_result",
          "data": {
            "text/plain": [
              "<matplotlib.axes._subplots.AxesSubplot at 0x7f965cbcd290>"
            ]
          },
          "metadata": {},
          "execution_count": 102
        },
        {
          "output_type": "display_data",
          "data": {
            "text/plain": [
              "<Figure size 792x648 with 2 Axes>"
            ],
            "image/png": "[encoded data removed]"
          },
          "metadata": {
            "needs_background": "light"
          }
        }
      ]
    },
    {
      "cell_type": "markdown",
      "source": [
        "- **Feature들 간 관계 서술**  \n",
        "  답: 각 feature들 간의 상관계수가 1에 가까워질 수록(positive) 하나가 증가할때 다른 하나도 함께 증가하는 경향이 나타나고, -1에 가까워질 수록(negative) 하나가 증가하면 다른 하나가 감소하는 경향이 있다. 그리고 그 상관계수의 절대값이 클수록 더 강한 연관성을 갖는다.\n",
        "  \n",
        "  위의 feature들로 예를 들어보면, AveRooms과 AveBedrms의 상관 계수가 0.85로 상당히 높기 때문에 높은 양의 상관관계를 가지므로 평균 room의 개수가 증가하면 평균 bedroom의 개수도 함께 증가하는 경향이 크다. 반면에, Latitude와 Longitude의 상관 계수는 -0.92로 상당히 낮기 때문에 높은 음의 상관관계를 가지므로 Latitude가 증가하면 Longitude는 반대로 감소하는 경향이 크다. 또한, AveRooms과 MedInc은 상관 계수가 0.33으로 AveRooms과 AveBedrms의 상관 계수인 0.85보다는 낮지만, 양의 상관 계수를 가지므로 수입이 증가할수록 평균 방의 개수도 함께 증가하는 경향이 있고, 그 상관 관계는 AveRooms과 AveBedrms의 상관 관계보다는 비교적 낮다는 의미를 가진다.\n",
        "\n",
        "  관심있는 feature인 target과 연관성이 높은 feature들을 선택하자면 MedInc, HouseAge, AveRooms, Latitude이다. 이 4개의 feature들은 target과의 상관계수의 절대값이 다른 feature에 비해 비교적 높기 때문에 target과 연관성이 높다고 판단했다. 물론 Latitude의 경우 음의 상관관계를 가지므로, Latitude가 증가하면 target이 감소하는 비교적 큰 관계가 있을 것이라고 판단하여 선택했다.\n",
        "\n",
        "- **최종 선택한 feature들**  \n",
        "  답: MedInc, HouseAge, AveRooms, Latitude"
      ],
      "metadata": {
        "id": "onkXpOqZ_Aal"
      }
    },
    {
      "cell_type": "code",
      "source": [
        "### 문제 4-1 ###\n",
        "# 새 dataframe 만들기 \n",
        "data_clean = df[['MedInc', 'HouseAge', 'AveRooms', 'Latitude', 'target']]\n",
        "data_clean.head()"
      ],
      "metadata": {
        "id": "GDXuxL65j7Gy",
        "colab": {
          "base_uri": "https://localhost:8080/",
          "height": 206
        },
        "outputId": "4a07ed57-f2a4-4505-d725-ea8f31eb4849"
      },
      "execution_count": 103,
      "outputs": [
        {
          "output_type": "execute_result",
          "data": {
            "text/plain": [
              "   MedInc  HouseAge  AveRooms  Latitude  target\n",
              "0  8.3252      41.0  6.984127     37.88   4.526\n",
              "1  8.3014      21.0  6.238137     37.86   3.585\n",
              "2  7.2574      52.0  8.288136     37.85   3.521\n",
              "3  5.6431      52.0  5.817352     37.85   3.413\n",
              "4  3.8462      52.0  6.281853     37.85   3.422"
            ],
            "text/html": [
              "\n",
              "  <div id=\"df-cf7f19a3-f91b-4bfd-922a-bce2f2cf06c2\">\n",
              "    <div class=\"colab-df-container\">\n",
              "      <div>\n",
              "<style scoped>\n",
              "    .dataframe tbody tr th:only-of-type {\n",
              "        vertical-align: middle;\n",
              "    }\n",
              "\n",
              "    .dataframe tbody tr th {\n",
              "        vertical-align: top;\n",
              "    }\n",
              "\n",
              "    .dataframe thead th {\n",
              "        text-align: right;\n",
              "    }\n",
              "</style>\n",
              "<table border=\"1\" class=\"dataframe\">\n",
              "  <thead>\n",
              "    <tr style=\"text-align: right;\">\n",
              "      <th></th>\n",
              "      <th>MedInc</th>\n",
              "      <th>HouseAge</th>\n",
              "      <th>AveRooms</th>\n",
              "      <th>Latitude</th>\n",
              "      <th>target</th>\n",
              "    </tr>\n",
              "  </thead>\n",
              "  <tbody>\n",
              "    <tr>\n",
              "      <th>0</th>\n",
              "      <td>8.3252</td>\n",
              "      <td>41.0</td>\n",
              "      <td>6.984127</td>\n",
              "      <td>37.88</td>\n",
              "      <td>4.526</td>\n",
              "    </tr>\n",
              "    <tr>\n",
              "      <th>1</th>\n",
              "      <td>8.3014</td>\n",
              "      <td>21.0</td>\n",
              "      <td>6.238137</td>\n",
              "      <td>37.86</td>\n",
              "      <td>3.585</td>\n",
              "    </tr>\n",
              "    <tr>\n",
              "      <th>2</th>\n",
              "      <td>7.2574</td>\n",
              "      <td>52.0</td>\n",
              "      <td>8.288136</td>\n",
              "      <td>37.85</td>\n",
              "      <td>3.521</td>\n",
              "    </tr>\n",
              "    <tr>\n",
              "      <th>3</th>\n",
              "      <td>5.6431</td>\n",
              "      <td>52.0</td>\n",
              "      <td>5.817352</td>\n",
              "      <td>37.85</td>\n",
              "      <td>3.413</td>\n",
              "    </tr>\n",
              "    <tr>\n",
              "      <th>4</th>\n",
              "      <td>3.8462</td>\n",
              "      <td>52.0</td>\n",
              "      <td>6.281853</td>\n",
              "      <td>37.85</td>\n",
              "      <td>3.422</td>\n",
              "    </tr>\n",
              "  </tbody>\n",
              "</table>\n",
              "</div>\n",
              "      <button class=\"colab-df-convert\" onclick=\"convertToInteractive('df-cf7f19a3-f91b-4bfd-922a-bce2f2cf06c2')\"\n",
              "              title=\"Convert this dataframe to an interactive table.\"\n",
              "              style=\"display:none;\">\n",
              "        \n",
              "  <svg xmlns=\"http://www.w3.org/2000/svg\" height=\"24px\"viewBox=\"0 0 24 24\"\n",
              "       width=\"24px\">\n",
              "    <path d=\"M0 0h24v24H0V0z\" fill=\"none\"/>\n",
              "    <path d=\"M18.56 5.44l.94 2.06.94-2.06 2.06-.94-2.06-.94-.94-2.06-.94 2.06-2.06.94zm-11 1L8.5 8.5l.94-2.06 2.06-.94-2.06-.94L8.5 2.5l-.94 2.06-2.06.94zm10 10l.94 2.06.94-2.06 2.06-.94-2.06-.94-.94-2.06-.94 2.06-2.06.94z\"/><path d=\"M17.41 7.96l-1.37-1.37c-.4-.4-.92-.59-1.43-.59-.52 0-1.04.2-1.43.59L10.3 9.45l-7.72 7.72c-.78.78-.78 2.05 0 2.83L4 21.41c.39.39.9.59 1.41.59.51 0 1.02-.2 1.41-.59l7.78-7.78 2.81-2.81c.8-.78.8-2.07 0-2.86zM5.41 20L4 18.59l7.72-7.72 1.47 1.35L5.41 20z\"/>\n",
              "  </svg>\n",
              "      </button>\n",
              "      \n",
              "  <style>\n",
              "    .colab-df-container {\n",
              "      display:flex;\n",
              "      flex-wrap:wrap;\n",
              "      gap: 12px;\n",
              "    }\n",
              "\n",
              "    .colab-df-convert {\n",
              "      background-color: #E8F0FE;\n",
              "      border: none;\n",
              "      border-radius: 50%;\n",
              "      cursor: pointer;\n",
              "      display: none;\n",
              "      fill: #1967D2;\n",
              "      height: 32px;\n",
              "      padding: 0 0 0 0;\n",
              "      width: 32px;\n",
              "    }\n",
              "\n",
              "    .colab-df-convert:hover {\n",
              "      background-color: #E2EBFA;\n",
              "      box-shadow: 0px 1px 2px rgba(60, 64, 67, 0.3), 0px 1px 3px 1px rgba(60, 64, 67, 0.15);\n",
              "      fill: #174EA6;\n",
              "    }\n",
              "\n",
              "    [theme=dark] .colab-df-convert {\n",
              "      background-color: #3B4455;\n",
              "      fill: #D2E3FC;\n",
              "    }\n",
              "\n",
              "    [theme=dark] .colab-df-convert:hover {\n",
              "      background-color: #434B5C;\n",
              "      box-shadow: 0px 1px 3px 1px rgba(0, 0, 0, 0.15);\n",
              "      filter: drop-shadow(0px 1px 2px rgba(0, 0, 0, 0.3));\n",
              "      fill: #FFFFFF;\n",
              "    }\n",
              "  </style>\n",
              "\n",
              "      <script>\n",
              "        const buttonEl =\n",
              "          document.querySelector('#df-cf7f19a3-f91b-4bfd-922a-bce2f2cf06c2 button.colab-df-convert');\n",
              "        buttonEl.style.display =\n",
              "          google.colab.kernel.accessAllowed ? 'block' : 'none';\n",
              "\n",
              "        async function convertToInteractive(key) {\n",
              "          const element = document.querySelector('#df-cf7f19a3-f91b-4bfd-922a-bce2f2cf06c2');\n",
              "          const dataTable =\n",
              "            await google.colab.kernel.invokeFunction('convertToInteractive',\n",
              "                                                     [key], {});\n",
              "          if (!dataTable) return;\n",
              "\n",
              "          const docLinkHtml = 'Like what you see? Visit the ' +\n",
              "            '<a target=\"_blank\" href=https://colab.research.google.com/notebooks/data_table.ipynb>data table notebook</a>'\n",
              "            + ' to learn more about interactive tables.';\n",
              "          element.innerHTML = '';\n",
              "          dataTable['output_type'] = 'display_data';\n",
              "          await google.colab.output.renderOutput(dataTable, element);\n",
              "          const docLink = document.createElement('div');\n",
              "          docLink.innerHTML = docLinkHtml;\n",
              "          element.appendChild(docLink);\n",
              "        }\n",
              "      </script>\n",
              "    </div>\n",
              "  </div>\n",
              "  "
            ]
          },
          "metadata": {},
          "execution_count": 103
        }
      ]
    },
    {
      "cell_type": "markdown",
      "source": [
        "### 문제 4-2: MSE, r2 score\n",
        "- Scikit-learn 라이브러리의 LinearRegression 모델을 사용한다.\n",
        "- train data는 test data를 제외한 **90%의 데이터를 사용**해야한다.\n",
        "- **Mean Square Error(MSE)**와 **r2 score**를 사용하여 train set에 대한 prediction 결과와 test set에 대한 prediction 결과를 구해 print 한다.\n",
        "- Prediction 결과를 바탕으로 학습한 LinearRegression 모델의 overfit, underfit 여부와 판단 근거를 텍스트 셀에 서술한다."
      ],
      "metadata": {
        "id": "uMo7ufW3_TXX"
      }
    },
    {
      "cell_type": "code",
      "source": [
        "### 문제 4-2 ###\n",
        "## 코드 작성 ##\n",
        "from sklearn.linear_model import LinearRegression\n",
        "from sklearn.metrics import mean_squared_error\n",
        "from sklearn.metrics import r2_score\n",
        "\n",
        "# train_test_split에 random seed(60)를 사용하여 split set을 고정\n",
        "# training에 사용할 데이터 = 전체 데이터의 90% (나머지는 test data)\n",
        "X = data_clean.drop('target', axis=1)\n",
        "y = data_clean['target']\n",
        "X_train, X_test, y_train, y_test = train_test_split(X, y, test_size=0.1, random_state=60)\n",
        "\n",
        "# LinearRegression 모델\n",
        "LR = LinearRegression()\n",
        "# train set을 사용하여 모델 training\n",
        "LR.fit(X_train, y_train)\n",
        "\n",
        "# train set에 대해 predict\n",
        "result = LR.predict(X_train)\n",
        "# MSE 계산\n",
        "print(\"train's MSE = \", mean_squared_error(y_train, result))\n",
        "# r2 score 계산\n",
        "print(\"train's r2 score = \", r2_score(y_train, result))\n",
        "\n",
        "# test set에 대해 predict\n",
        "result = LR.predict(X_test)\n",
        "# MSE 계산\n",
        "print(\"test's MSE = \", mean_squared_error(y_test, result))\n",
        "# r2 score 계산\n",
        "print(\"test's r2 score = \", r2_score(y_test, result))\n"
      ],
      "metadata": {
        "id": "UgKvcwQXCLhx",
        "colab": {
          "base_uri": "https://localhost:8080/"
        },
        "outputId": "5d7c0adb-903d-4423-fae1-e370a340e966"
      },
      "execution_count": 104,
      "outputs": [
        {
          "output_type": "stream",
          "name": "stdout",
          "text": [
            "train's MSE =  0.6358679154469103\n",
            "train's r2 score =  0.5214291815686158\n",
            "test's MSE =  0.6825170402298409\n",
            "test's r2 score =  0.49717832430807785\n"
          ]
        }
      ]
    },
    {
      "cell_type": "markdown",
      "source": [
        "**Prediction 결과를 바탕으로 학습한 LinearRegression 모델의 overfit, underfit 여부와 판단 근거를 서술**   \n",
        "답: train set으로 모델을 학습했으므로, train set에 대한 predict가 test set에 대한 predict보다 높은 예측률을 가질 확률이 비교적 높다. 높은 예측률을 가진다는 것은 결국 MSE가 비교적 0에 더 가깝고, r2 score가 1에 더 가깝다는 의미다.\n",
        "\n",
        "실제로 위의 prediction 결과를 확인해보면, MSE는 train set에서 test set보다 비교적 0에 더 가깝고, r2 score는 train set에서 test set보다 비교적 1에 더 가깝다. 결국 이를 통해, 학습한 LinearRegression 모델이 underfit하지 않다는 것을 알 수 있다. 또한, train set과 test set의 MSE와 r2 score 각각의 차이가 크다면 모델이 overfit하다고 판단할 수 있는데, 실제로 결과에서는 차이가 크지 않다고 생각하여 overfit하지 않다고 보여진다."
      ],
      "metadata": {
        "id": "rcgD51UhEKOE"
      }
    },
    {
      "cell_type": "markdown",
      "source": [
        "### 문제 4-3: Regularized Model\n",
        "- Scikit-learn 라이브러리를 사용하여 Ridge Regression과 Lasso Regression 모델을 만든다.\n",
        "- train : validation : test **데이터셋의 비율을 8:1:1**로 설정한다.\n",
        "- 다양한 alpha 값에 대해 validation dataset을 사용하여 각 모델에 대한 **최적의 alpha 값을 찾고 찾은 최적의 alpha 값을 텍스트 셀에 작성**한다.\n",
        "- alpha 값은 아래의 리스트를 사용한다.  \n",
        "```alpha = [0.0001, 0.001,0.01,0.1,10]```\n",
        "- alpha 값에 대한 R2 score의 변화를 그래프로 나타낸다.\n",
        "  * **x축: alpha 값**\n",
        "  * **y축: R2 score 값**\n",
        "  * 파란색 선: Ridge 결과, 빨간색 선: Lasso 결과\n",
        "  * 그래프에 **legend**가 포함되어 있어야 한다. \n",
        "- **train과 validation dataset을 합하여 train set을 만든 후 최종 학습 결과를 도출**한다.\n",
        "  * 최적의 alpha 값을 찾을 때 사용한 test set은 변하지 않는다. \n",
        "  * r2 score를 사용하여 train set에 대한 prediction 결과와 test set에 대한 prediction 결과를 구해 print 한다."
      ],
      "metadata": {
        "id": "0OGUhsrgEwR_"
      }
    },
    {
      "cell_type": "code",
      "source": [
        "### 문제 4-3 ###\n",
        "## 코드 작성 ##\n",
        "from sklearn.linear_model import Ridge, Lasso\n",
        "\n",
        "# train_test_split에 random seed(60)를 사용하여 split set을 고정\n",
        "# train : validation : test 데이터셋의 비율 = 8:1:1\n",
        "X_train, X_test, y_train, y_test = train_test_split(X, y, test_size=0.1, random_state=60)\n",
        "X_train, X_val, y_train, y_val = train_test_split(X_train, y_train, test_size=1/9, random_state=60)\n",
        "\n",
        "alpha = [0.0001, 0.001,0.01,0.1,1,10]\n",
        "\n",
        "r2_ridge = []\n",
        "r2_lasso = []\n",
        "\n",
        "for a in alpha:\n",
        "  # Ridge Regression 모델\n",
        "  ridge = Ridge(alpha=a)\n",
        "  # Lasso Regression 모델\n",
        "  lasso = Lasso(alpha=a)\n",
        "\n",
        "  # train set을 사용하여 각각의 모델 training\n",
        "  ridge.fit(X_train, y_train)\n",
        "  lasso.fit(X_train, y_train)\n",
        "\n",
        "  # validation set에 대해 predict (Ridge Regression)\n",
        "  result = ridge.predict(X_val)\n",
        "  # r2 score 계산 (Ridge Regression)\n",
        "  r2_ridge.append(r2_score(y_val, result))\n",
        "\n",
        "  # validation set에 대해 predict (Lasso Regression)\n",
        "  result = lasso.predict(X_val)\n",
        "  # r2 score 계산 (Lasso Regression)\n",
        "  r2_lasso.append(r2_score(y_val, result))"
      ],
      "metadata": {
        "id": "5XHRyFjsZyJ5"
      },
      "execution_count": 105,
      "outputs": []
    },
    {
      "cell_type": "code",
      "source": [
        "### 문제 4-3 ###\n",
        "## 그래프 작성 ##\n",
        "val = range(len(alpha)) # x축 동일한 간격의 임의 값 목록\n",
        "\n",
        "fig, ax1 = plt.subplots()\n",
        "ax2 = ax1.twinx()  # 이중 y축\n",
        "\n",
        "ax1.plot(val, r2_ridge, label=\"Ridge's R2 score\", color='blue')  # Ridge\n",
        "ax2.plot(val, r2_lasso, label=\"Lasso's R2 score\", color='red')  # Lasso\n",
        "plt.xticks(val,alpha) # x축 눈금 - alpha 값\n",
        "\n",
        "ax1.legend(loc='lower left') # 범례 표시\n",
        "ax2.legend(loc='lower right') # 범례 표시\n",
        "ax1.set_xlabel('alpha') # x축 레이블\n",
        "ax1.set_ylabel('Ridge R2 score') # y축 레이블\n",
        "ax2.set_ylabel('Lasso R2 score') # y축 레이블"
      ],
      "metadata": {
        "id": "2ZJbj9r2Z4LP",
        "colab": {
          "base_uri": "https://localhost:8080/",
          "height": 309
        },
        "outputId": "a2c6b5dc-33db-4411-e766-bf2e3dd8f9c7"
      },
      "execution_count": 123,
      "outputs": [
        {
          "output_type": "execute_result",
          "data": {
            "text/plain": [
              "Text(0, 0.5, 'Lasso R2 score')"
            ]
          },
          "metadata": {},
          "execution_count": 123
        },
        {
          "output_type": "display_data",
          "data": {
            "text/plain": [
              "<Figure size 432x288 with 2 Axes>"
            ],
            "image/png": "[encoded data removed]"
          },
          "metadata": {
            "needs_background": "light"
          }
        }
      ]
    },
    {
      "cell_type": "markdown",
      "source": [
        "- Rridge regression 모델 최적의 alpha 값: 0.01\n",
        "- Lasso regression 모델 최적의 alpha 값: 0.01"
      ],
      "metadata": {
        "id": "DS8x1JmkZ6Yl"
      }
    },
    {
      "cell_type": "code",
      "source": [
        "### 문제 4-3 ###\n",
        "# 최종 결과 출력\n",
        "X_train = pd.concat([X_train, X_val])\n",
        "y_train = pd.concat([y_train, y_val])\n",
        "\n",
        "# Ridge Regression 모델\n",
        "ridge = Ridge(alpha=0.01)\n",
        "# Lasso Regression 모델\n",
        "lasso = Lasso(alpha=0.01)\n",
        "\n",
        "# train set을 사용하여 각각의 모델 training\n",
        "ridge.fit(X_train, y_train)\n",
        "lasso.fit(X_train, y_train)\n",
        "\n",
        "# train set에 대해 predict (Ridge Regression)\n",
        "result = ridge.predict(X_train)\n",
        "# r2 score 계산 (Ridge Regression)\n",
        "print(\"train's Ridge R2 score = \", r2_score(y_train, result))\n",
        "\n",
        "# train set에 대해 predict (Lasso Regression)\n",
        "result = lasso.predict(X_train)\n",
        "# r2 score 계산 (Lasso Regression)\n",
        "print(\"train's Lasso R2 score = \", r2_score(y_train, result))\n",
        "\n",
        "# test set에 대해 predict (Ridge Regression)\n",
        "result = ridge.predict(X_test)\n",
        "# r2 score 계산 (Ridge Regression)\n",
        "print(\"test's Ridge R2 score = \", r2_score(y_test, result))\n",
        "\n",
        "# test set에 대해 predict (Lasso Regression)\n",
        "result = lasso.predict(X_test)\n",
        "# r2 score 계산 (Lasso Regression)\n",
        "print(\"test's Lasso R2 score = \", r2_score(y_test, result))"
      ],
      "metadata": {
        "id": "zio0ZtfdiXCF",
        "colab": {
          "base_uri": "https://localhost:8080/"
        },
        "outputId": "9ea5be4c-f47b-4386-9d0b-f9c3527fbd74"
      },
      "execution_count": 126,
      "outputs": [
        {
          "output_type": "stream",
          "name": "stdout",
          "text": [
            "train's Ridge R2 score =  0.5216324337212294\n",
            "train's Lasso R2 score =  0.5215652258255423\n",
            "test's Ridge R2 score =  0.4980000617474757\n",
            "test's Lasso R2 score =  0.4975618760719803\n"
          ]
        }
      ]
    }
  ]
}