{
  "nbformat": 4,
  "nbformat_minor": 0,
  "metadata": {
    "colab": {
      "name": "HW4_201820762_목대희",
      "provenance": [],
      "collapsed_sections": [],
      "include_colab_link": true
    },
    "kernelspec": {
      "name": "python3",
      "display_name": "Python 3"
    },
    "language_info": {
      "name": "python"
    }
  },
  "cells": [
    {
      "cell_type": "markdown",
      "metadata": {
        "id": "view-in-github",
        "colab_type": "text"
      },
      "source": [
        "<a href=\"https://colab.research.google.com/github/DaeHee99/2022S-ML/blob/main/HW4_201820762_%EB%AA%A9%EB%8C%80%ED%9D%AC.ipynb\" target=\"_parent\"><img src=\"https://colab.research.google.com/assets/colab-badge.svg\" alt=\"Open In Colab\"/></a>"
      ]
    },
    {
      "cell_type": "markdown",
      "source": [
        "# **HW4 :: DNN**\n",
        "## 과제 목표\n",
        "* 간단한 Three Layer Network를 구현하기\n",
        "* Pytorch를 사용하여 DNN 구현 후 학습과 테스트하기\n",
        "  \n",
        "  \n",
        "   \n",
        "\n"
      ],
      "metadata": {
        "id": "EXvAS7OZkg_M"
      }
    },
    {
      "cell_type": "markdown",
      "source": [
        "⭐  이번 과제는 bb에 코랩 링크, ipynb 파일만 업로드합니다(HW3와 동일하게).   \n",
        "⭐  작성한 코드에 **간단한 주석을 반드시 달아주세요**!  \n",
        "⭐  코딩할 부분을 제외하고는 수정하지 마세요. 수정 시 감점입니다."
      ],
      "metadata": {
        "id": "k5IhqPYwmnUv"
      }
    },
    {
      "cell_type": "markdown",
      "source": [
        "## **문제 1 - Three Layer Network**\n",
        "```class Sigmoid```와 ```Affine```을 구현한 후 이 두 class를 사용하여 ```class ThreeLayerNet```를 완성하세요. \n",
        "* 코드 참고 : deep learning from scratch"
      ],
      "metadata": {
        "id": "OKfJ8-LiFOr8"
      }
    },
    {
      "cell_type": "markdown",
      "source": [
        "### 문제 1-1\n",
        "class sigmoid의 forward 함수를 구현하세요.  \n",
        "힌트) sigmoid 함수 식"
      ],
      "metadata": {
        "id": "FrrWMAJx6FUC"
      }
    },
    {
      "cell_type": "code",
      "execution_count": 25,
      "metadata": {
        "id": "QSI6QIBkCPWP"
      },
      "outputs": [],
      "source": [
        "import numpy as np\n",
        "\n",
        "\n",
        "class Sigmoid:\n",
        "    def __init__(self):\n",
        "        self.params = []\n",
        "\n",
        "    def forward(self, x):\n",
        "\n",
        "      #############################################\n",
        "      ################### 문제 1-1 #################\n",
        "      ############# sigmoid forward 구현 ###########\n",
        "      #############################################\n",
        "        # 한 줄로 구현\n",
        "        result = 1 / (1 + np.exp(-x))  # sigmoid 함수 식\n",
        "      #############################################\n",
        "      \n",
        "        return result\n"
      ]
    },
    {
      "cell_type": "markdown",
      "source": [
        "### 문제 1-2\n",
        "class Affine의 forward 함수를 구현하세요.  \n",
        "힌트) affine 함수 식"
      ],
      "metadata": {
        "id": "1YcAkmtN6UXK"
      }
    },
    {
      "cell_type": "code",
      "source": [
        "class Affine: # Affine은 Fully Connect를 의미합니다\n",
        "    def __init__(self, W, b):\n",
        "        self.params = [W, b]\n",
        "\n",
        "    def forward(self, x):\n",
        "      \n",
        "      #############################################\n",
        "      ################### 문제 1-2 #################\n",
        "      ############# affine forward 구현 ############\n",
        "      #############################################\n",
        "        # 코드 작성\n",
        "        out = np.dot(x, self.params[0]) + self.params[1]  # affine 함수 식\n",
        "      #############################################\n",
        "      \n",
        "        return out\n"
      ],
      "metadata": {
        "id": "Ds05drVvG5O_"
      },
      "execution_count": 26,
      "outputs": []
    },
    {
      "cell_type": "markdown",
      "source": [
        "### 문제 1-3\n",
        "\n",
        "  각 layer의 parameter를 ```np.random.randn()``` 를 사용하여 초기화하세요.  \n",
        "  * 조건) ```class ThreeLayerNet```은 총 3개의 fully connected layer로 구성됩니다.\n",
        "  * 힌트) 차원을 잘 고려하세요. \n"
      ],
      "metadata": {
        "id": "aX3vaESK6jp_"
      }
    },
    {
      "cell_type": "markdown",
      "source": [
        "### 문제 1-4\n",
        "  문제1-1, 2에서 구현한 class를 사용하여 ThreeLayerNet의 layer를 구성하세요.\n",
        "  * 조건) ```class ThreeLayerNet```은 총 3개의 fully connected layer로 구성됩니다.\n",
        "  * 힌트) 차원을 잘 고려하세요."
      ],
      "metadata": {
        "id": "qoPlnkHg_18J"
      }
    },
    {
      "cell_type": "code",
      "source": [
        "class ThreeLayerNet:\n",
        "    def __init__(self, input_size, first_hidden_size, second_hidden_size, output_size):\n",
        "        I, H_1, H_2,O = input_size, first_hidden_size, second_hidden_size, output_size\n",
        "\n",
        "      #############################################\n",
        "      ################### 문제 1-3 #################\n",
        "      ######### parameter initialization ##########\n",
        "      #############################################\n",
        "        # 코드 작성\n",
        "        # 가중치(Weight)와 편향(bias) 초기화\n",
        "\n",
        "        # First Hidden Layer's parameter\n",
        "        W1 = np.random.randn(I, H_1)    # weight\n",
        "        b1 = np.random.randn(H_1)       # bias\n",
        "        \n",
        "        # Second Hidden Layer's parameter\n",
        "        W2 = np.random.randn(H_1, H_2)  # weight\n",
        "        b2 = np.random.randn(H_2)       # bias\n",
        "        \n",
        "        # Output Layer's parameter\n",
        "        W3 = np.random.randn(H_2, O)    # weight\n",
        "        b3 = np.random.randn(O)         # bias\n",
        "      #########################################\n",
        "        \n",
        "\n",
        "        self.layers = [\n",
        "        #############################################\n",
        "        ################### 문제 1-4 #################\n",
        "        ############### stack layers ################\n",
        "        #############################################          \n",
        "            # 코드 작성\n",
        "            # First Hidden Layer\n",
        "            Affine(W1, b1),\n",
        "            Sigmoid(),\n",
        "            \n",
        "            # Second Hidden Layer\n",
        "            Affine(W2, b2),\n",
        "            Sigmoid(),\n",
        "            \n",
        "            # Output Layer\n",
        "            Affine(W3, b3),\n",
        "            Sigmoid()\n",
        "        #############################################    \n",
        "        ]\n",
        "\n",
        "        # 모든 weight 를 담은 리스트 생성\n",
        "        self.params = []\n",
        "        for layer in self.layers:\n",
        "            self.params += layer.params\n",
        "\n",
        "    def predict(self, x):\n",
        "        for layer in self.layers:\n",
        "            x = layer.forward(x)\n",
        "        return x"
      ],
      "metadata": {
        "id": "VmHw4K5DG3uv"
      },
      "execution_count": 27,
      "outputs": []
    },
    {
      "cell_type": "code",
      "source": [
        "# dummy data로 모델 실행해보기\n",
        "x = np.random.randn(784, 100)\n",
        "model = ThreeLayerNet(100, 50, 30, 10)\n",
        "s = model.predict(x)\n",
        "print(s)"
      ],
      "metadata": {
        "id": "SNI0xGraFAAt",
        "colab": {
          "base_uri": "https://localhost:8080/"
        },
        "outputId": "49f23eba-b6d3-479b-fff1-1662c4a74875"
      },
      "execution_count": 28,
      "outputs": [
        {
          "output_type": "stream",
          "name": "stdout",
          "text": [
            "[[0.78649858 0.87937615 0.00539969 ... 0.98565771 0.89283506 0.94140794]\n",
            " [0.94639794 0.96240739 0.07725007 ... 0.97915379 0.83598675 0.85521906]\n",
            " [0.3310725  0.82947842 0.02266564 ... 0.93491542 0.94593681 0.86521042]\n",
            " ...\n",
            " [0.89886956 0.97965421 0.05916871 ... 0.94316019 0.74116442 0.92084719]\n",
            " [0.98357388 0.90299749 0.02021612 ... 0.95929396 0.41786016 0.52102085]\n",
            " [0.40265612 0.98802823 0.59670472 ... 0.9958566  0.81226225 0.95223028]]\n"
          ]
        }
      ]
    },
    {
      "cell_type": "markdown",
      "source": [
        "\n",
        "\n",
        "---\n",
        "\n"
      ],
      "metadata": {
        "id": "FtZZAx7vovt4"
      }
    },
    {
      "cell_type": "markdown",
      "source": [
        "## 문제 2 - Implementing DNN using Pytorch\n",
        "문제 1에서는 Pytorch를 사용하지 않고 DNN을 구현해보았습니다.  \n",
        "문제 2에서는 Pytorch를 사용하여 DNN을 구현하고 MNIST 데이터로 분류 모델 학습을 진행합니다.\n",
        "* 코드 참고: pytorch 공식 튜토리얼"
      ],
      "metadata": {
        "id": "hOzYC0u5GfkB"
      }
    },
    {
      "cell_type": "code",
      "source": [
        "# 라이브러리 importing\n",
        "import torch\n",
        "from torch.utils.data import Dataset\n",
        "from torchvision import datasets\n",
        "from torchvision.transforms import ToTensor\n",
        "import matplotlib.pyplot as plt\n",
        "from torch import nn"
      ],
      "metadata": {
        "id": "LKcI43VULpeQ"
      },
      "execution_count": 29,
      "outputs": []
    },
    {
      "cell_type": "markdown",
      "source": [
        "### **Load Data**"
      ],
      "metadata": {
        "id": "WCbWy3jAMGuQ"
      }
    },
    {
      "cell_type": "code",
      "source": [
        "# Load training data\n",
        "training_data = datasets.MNIST(\n",
        "    root=\"data\",\n",
        "    train=True, # training data\n",
        "    download=True,\n",
        "    transform=ToTensor() # 이미지를 tensor로 변형\n",
        ")\n",
        "\n",
        "# Load test data\n",
        "test_data = datasets.MNIST(\n",
        "    root=\"data\",\n",
        "    train=False, # test data\n",
        "    download=True,\n",
        "    transform=ToTensor() # 이미지를 tensor로 변형\n",
        ")\n",
        "\n",
        "# data loader\n",
        "# train, test 각각의 data loader 생성\n",
        "train_loader = torch.utils.data.DataLoader(training_data, batch_size=1, shuffle=True)\n",
        "test_loader = torch.utils.data.DataLoader(test_data, batch_size=1, shuffle=True)"
      ],
      "metadata": {
        "id": "D9DqIegtLnz9"
      },
      "execution_count": 30,
      "outputs": []
    },
    {
      "cell_type": "markdown",
      "source": [
        "### **Check loaded data**\n",
        "train_loader를 사용하여 하나의 데이터를 로드한 후 이 데이터가 어떤 숫자의 데이터인지 이미지로 확인해봅니다."
      ],
      "metadata": {
        "id": "QtJVlNT9A_KK"
      }
    },
    {
      "cell_type": "code",
      "source": [
        "# train feature와 label을 train_loader로부터 가져오기\n",
        "train_features, train_labels = next(iter(train_loader))\n",
        "print(f\"Feature batch shape: {train_features.size()}\")\n",
        "print(f\"Labels batch shape: {train_labels.size()}\")"
      ],
      "metadata": {
        "id": "IF90dcyJPhVw",
        "colab": {
          "base_uri": "https://localhost:8080/"
        },
        "outputId": "b3c199f0-ea8b-40c6-a783-403085ade7bd"
      },
      "execution_count": 62,
      "outputs": [
        {
          "output_type": "stream",
          "name": "stdout",
          "text": [
            "Feature batch shape: torch.Size([1, 1, 28, 28])\n",
            "Labels batch shape: torch.Size([1])\n"
          ]
        }
      ]
    },
    {
      "cell_type": "code",
      "source": [
        "# 이미지로 확인\n",
        "img = train_features[0].squeeze()\n",
        "label = train_labels[0]\n",
        "plt.imshow(img, cmap=\"gray\")\n",
        "plt.show()\n",
        "print(f\"Label: {label}\")"
      ],
      "metadata": {
        "id": "00Wypwb2Pr-r",
        "colab": {
          "base_uri": "https://localhost:8080/",
          "height": 284
        },
        "outputId": "abbcb637-9c00-4653-97ed-73a5d2c5b588"
      },
      "execution_count": 63,
      "outputs": [
        {
          "output_type": "display_data",
          "data": {
            "text/plain": [
              "<Figure size 432x288 with 1 Axes>"
            ],
            "image/png": "[encoded data removed]"
          },
          "metadata": {
            "needs_background": "light"
          }
        },
        {
          "output_type": "stream",
          "name": "stdout",
          "text": [
            "Label: 1\n"
          ]
        }
      ]
    },
    {
      "cell_type": "markdown",
      "source": [
        "### 문제 2-1\n",
        "4개의 linear layer와 3개의 ReLU layer를 가진 네트워크를 구성하세요.\n",
        "\n"
      ],
      "metadata": {
        "id": "BB_Qe54pB8_S"
      }
    },
    {
      "cell_type": "markdown",
      "source": [
        "### 문제 2-2\n",
        "forward 함수의 빈칸을 구현하세요."
      ],
      "metadata": {
        "id": "mK5ukeeECYJk"
      }
    },
    {
      "cell_type": "code",
      "source": [
        "class NeuralNetwork(nn.Module):\n",
        "    def __init__(self):\n",
        "        super(NeuralNetwork, self).__init__()\n",
        "        self.flatten = nn.Flatten() # 28x28 이미지를 784 픽셀 값의 배열로 변경\n",
        "        self.linear_relu_stack = nn.Sequential(\n",
        "            \n",
        "            nn.Linear(in_features=28*28, out_features=512),\n",
        "            nn.ReLU(),\n",
        "\n",
        "            #############################################\n",
        "            ################### 문제 2-1 #################\n",
        "            # 4개의 linear layer와 3개의 ReLU layer를 구성하세요\n",
        "            # (위 Linear 포함 4개, ReLU layer 포함 3개를 의미)\n",
        "            #############################################\n",
        "            \n",
        "            # 시작 차원, 끝 차원 잘 고려하여 작성하기\n",
        "            # 중간 차원은 임의로 설정 가능\n",
        "            nn.Linear(in_features=512, out_features=256),  # 두번째 linear layer\n",
        "            nn.ReLU(),                                     # 두번째 ReLU layer\n",
        "\n",
        "            nn.Linear(in_features=256, out_features=128),   # 세번째 linear layer\n",
        "            nn.ReLU(),                                     # 세번째 ReLU layer\n",
        "\n",
        "            nn.Linear(in_features=128, out_features=10)     # 네번째 linear layer\n",
        "\n",
        "            #############################################\n",
        "\n",
        "        )\n",
        "\n",
        "    def forward(self, x):\n",
        "        #############################################\n",
        "        ################### 문제 2-2 #################\n",
        "        # forward 함수 구현\n",
        "        #############################################\n",
        "        # 코드 작성\n",
        "        x = self.flatten(x) # 28x28 이미지를 784 픽셀 값의 배열로 변경\n",
        "        logits = self.linear_relu_stack(x) # 위에서 정의한 Linear와 ReLU layer를 거쳐 최종적으로 10개(0~9)의 확률적 출력을 만듦\n",
        "        #############################################\n",
        "        return logits # forward 결과 저장"
      ],
      "metadata": {
        "id": "zme9j_4hMiA2"
      },
      "execution_count": 64,
      "outputs": []
    },
    {
      "cell_type": "code",
      "source": [
        "# cpu OR gpu 설정\n",
        "# gpu가 있을 경우, device로 cuda를 사용함\n",
        "# colab에서 '런타임 유형 변경'을 하면 gpu 사용할 수 있음\n",
        "device = \"cuda\" if torch.cuda.is_available() else \"cpu\"\n",
        "print(f\"Using {device} device\")"
      ],
      "metadata": {
        "id": "kfBLbfwUJgtP",
        "colab": {
          "base_uri": "https://localhost:8080/"
        },
        "outputId": "70c798e7-5588-41aa-e75b-d8444e5331f0"
      },
      "execution_count": 65,
      "outputs": [
        {
          "output_type": "stream",
          "name": "stdout",
          "text": [
            "Using cpu device\n"
          ]
        }
      ]
    },
    {
      "cell_type": "code",
      "source": [
        "model = NeuralNetwork().to(device) # device로 Network 전송\n",
        "print(model) # 모델 구조 확인"
      ],
      "metadata": {
        "id": "ifGukRqQOUyV",
        "colab": {
          "base_uri": "https://localhost:8080/"
        },
        "outputId": "6cc6458c-d3db-4f44-b821-77878bb67ba9"
      },
      "execution_count": 66,
      "outputs": [
        {
          "output_type": "stream",
          "name": "stdout",
          "text": [
            "NeuralNetwork(\n",
            "  (flatten): Flatten(start_dim=1, end_dim=-1)\n",
            "  (linear_relu_stack): Sequential(\n",
            "    (0): Linear(in_features=784, out_features=512, bias=True)\n",
            "    (1): ReLU()\n",
            "    (2): Linear(in_features=512, out_features=256, bias=True)\n",
            "    (3): ReLU()\n",
            "    (4): Linear(in_features=256, out_features=128, bias=True)\n",
            "    (5): ReLU()\n",
            "    (6): Linear(in_features=128, out_features=10, bias=True)\n",
            "  )\n",
            ")\n"
          ]
        }
      ]
    },
    {
      "cell_type": "code",
      "source": [
        "# 앞에서 출력해보았던 train_features[0](1개의 데이터)에 대해서 모델 학습 결과 확인해보기\n",
        "logits = model(train_features[0]) # 일부 백그라운드 연산들과 함께 모델의 forward 를 실행 \n",
        "pred_probab = nn.Softmax(dim=1)(logits)\n",
        "y_pred = pred_probab.argmax(1)\n",
        "print(f\"Predicted class: {y_pred}\")"
      ],
      "metadata": {
        "id": "MdOf0Rd1VEi9",
        "colab": {
          "base_uri": "https://localhost:8080/"
        },
        "outputId": "3a8d8290-8873-41f3-84bc-60a6ed28bb3c"
      },
      "execution_count": 67,
      "outputs": [
        {
          "output_type": "stream",
          "name": "stdout",
          "text": [
            "Predicted class: tensor([1])\n"
          ]
        }
      ]
    },
    {
      "cell_type": "markdown",
      "source": [
        "### **Train the Network** \n",
        "epoch과 batch를 활용하여 모델을 학습시켜 봅시다."
      ],
      "metadata": {
        "id": "J5G6rO77V7OR"
      }
    },
    {
      "cell_type": "markdown",
      "source": [
        "### 문제 2-3\n",
        "모델의 forward, backward, optimize 하는 부분을 주어진 칸에 구현하세요."
      ],
      "metadata": {
        "id": "n7RwQwKDCjOy"
      }
    },
    {
      "cell_type": "code",
      "source": [
        "model = NeuralNetwork().to(device)"
      ],
      "metadata": {
        "id": "y7jdCHQphsIO"
      },
      "execution_count": 68,
      "outputs": []
    },
    {
      "cell_type": "code",
      "source": [
        "# hyperparameter 설정\n",
        "import torch.optim as optim\n",
        "\n",
        "criterion = nn.CrossEntropyLoss() # loss function\n",
        "optimizer = optim.SGD(model.parameters(), lr=0.001, momentum=0.9) # optimizer\n",
        "\n",
        "n_epoch = 3 # the number of epochs\n",
        "n_batch = 32 # the number of batches"
      ],
      "metadata": {
        "id": "XGXKm0pHhnoO"
      },
      "execution_count": 69,
      "outputs": []
    },
    {
      "cell_type": "code",
      "source": [
        "# loader 설정하기\n",
        "train_loader = torch.utils.data.DataLoader(training_data, batch_size=n_batch, shuffle=True)\n",
        "test_loader = torch.utils.data.DataLoader(test_data, batch_size=n_batch, shuffle=True)"
      ],
      "metadata": {
        "id": "s3viP29EipLg"
      },
      "execution_count": 70,
      "outputs": []
    },
    {
      "cell_type": "code",
      "source": [
        "for epoch in range(n_epoch):  # loop over the dataset multiple times\n",
        "\n",
        "    running_loss = 0.0\n",
        "    for i, data in enumerate(train_loader, 0):\n",
        "\n",
        "        # input data 가져오기\n",
        "        # data 는 [inputs, labels]로 구성된 리스트\n",
        "        inputs, labels = data\n",
        "\n",
        "        # optimizer의 파라미터 gradient를 0으로 설정\n",
        "        optimizer.zero_grad()\n",
        "\n",
        "        #############################################\n",
        "        ################### 문제 2-3 #################\n",
        "        # forward, backward, optimize \n",
        "        #############################################\n",
        "        # 코드 작성\n",
        "        # Forward\n",
        "        logits = model(inputs)\n",
        "        loss = criterion(logits, labels)\n",
        "\n",
        "        # Backward\n",
        "        loss.backward()\n",
        "\n",
        "        # Optimize\n",
        "        optimizer.step()\n",
        "\n",
        "        #############################################\n",
        "\n",
        "        # loss 출력\n",
        "        running_loss += loss.item()\n",
        "        if i % n_batch == 0:    # print every n_batch mini-batches\n",
        "            print(f'[{epoch + 1}, {i + 1:5d}] loss: {running_loss / n_batch:.3f}')\n",
        "            running_loss = 0.0\n",
        "\n",
        "print('Finished Training')"
      ],
      "metadata": {
        "id": "m6ByMb4whKFt",
        "colab": {
          "base_uri": "https://localhost:8080/"
        },
        "outputId": "3463f4ef-37fb-45b9-ba1c-e998bfa2b7a4"
      },
      "execution_count": 72,
      "outputs": [
        {
          "output_type": "stream",
          "name": "stdout",
          "text": [
            "[1,     1] loss: 0.009\n",
            "[1,    33] loss: 0.244\n",
            "[1,    65] loss: 0.261\n",
            "[1,    97] loss: 0.255\n",
            "[1,   129] loss: 0.259\n",
            "[1,   161] loss: 0.248\n",
            "[1,   193] loss: 0.245\n",
            "[1,   225] loss: 0.243\n",
            "[1,   257] loss: 0.289\n",
            "[1,   289] loss: 0.283\n",
            "[1,   321] loss: 0.262\n",
            "[1,   353] loss: 0.266\n",
            "[1,   385] loss: 0.250\n",
            "[1,   417] loss: 0.227\n",
            "[1,   449] loss: 0.289\n",
            "[1,   481] loss: 0.220\n",
            "[1,   513] loss: 0.275\n",
            "[1,   545] loss: 0.274\n",
            "[1,   577] loss: 0.243\n",
            "[1,   609] loss: 0.285\n",
            "[1,   641] loss: 0.271\n",
            "[1,   673] loss: 0.252\n",
            "[1,   705] loss: 0.233\n",
            "[1,   737] loss: 0.241\n",
            "[1,   769] loss: 0.281\n",
            "[1,   801] loss: 0.226\n",
            "[1,   833] loss: 0.308\n",
            "[1,   865] loss: 0.237\n",
            "[1,   897] loss: 0.258\n",
            "[1,   929] loss: 0.262\n",
            "[1,   961] loss: 0.234\n",
            "[1,   993] loss: 0.254\n",
            "[1,  1025] loss: 0.238\n",
            "[1,  1057] loss: 0.269\n",
            "[1,  1089] loss: 0.268\n",
            "[1,  1121] loss: 0.289\n",
            "[1,  1153] loss: 0.247\n",
            "[1,  1185] loss: 0.256\n",
            "[1,  1217] loss: 0.291\n",
            "[1,  1249] loss: 0.278\n",
            "[1,  1281] loss: 0.276\n",
            "[1,  1313] loss: 0.247\n",
            "[1,  1345] loss: 0.209\n",
            "[1,  1377] loss: 0.242\n",
            "[1,  1409] loss: 0.219\n",
            "[1,  1441] loss: 0.261\n",
            "[1,  1473] loss: 0.262\n",
            "[1,  1505] loss: 0.278\n",
            "[1,  1537] loss: 0.228\n",
            "[1,  1569] loss: 0.227\n",
            "[1,  1601] loss: 0.243\n",
            "[1,  1633] loss: 0.226\n",
            "[1,  1665] loss: 0.296\n",
            "[1,  1697] loss: 0.248\n",
            "[1,  1729] loss: 0.230\n",
            "[1,  1761] loss: 0.233\n",
            "[1,  1793] loss: 0.229\n",
            "[1,  1825] loss: 0.265\n",
            "[1,  1857] loss: 0.220\n",
            "[2,     1] loss: 0.005\n",
            "[2,    33] loss: 0.200\n",
            "[2,    65] loss: 0.243\n",
            "[2,    97] loss: 0.227\n",
            "[2,   129] loss: 0.220\n",
            "[2,   161] loss: 0.231\n",
            "[2,   193] loss: 0.197\n",
            "[2,   225] loss: 0.271\n",
            "[2,   257] loss: 0.238\n",
            "[2,   289] loss: 0.214\n",
            "[2,   321] loss: 0.232\n",
            "[2,   353] loss: 0.170\n",
            "[2,   385] loss: 0.237\n",
            "[2,   417] loss: 0.200\n",
            "[2,   449] loss: 0.252\n",
            "[2,   481] loss: 0.230\n",
            "[2,   513] loss: 0.255\n",
            "[2,   545] loss: 0.226\n",
            "[2,   577] loss: 0.214\n",
            "[2,   609] loss: 0.216\n",
            "[2,   641] loss: 0.194\n",
            "[2,   673] loss: 0.179\n",
            "[2,   705] loss: 0.194\n",
            "[2,   737] loss: 0.233\n",
            "[2,   769] loss: 0.251\n",
            "[2,   801] loss: 0.198\n",
            "[2,   833] loss: 0.203\n",
            "[2,   865] loss: 0.215\n",
            "[2,   897] loss: 0.186\n",
            "[2,   929] loss: 0.231\n",
            "[2,   961] loss: 0.210\n",
            "[2,   993] loss: 0.224\n",
            "[2,  1025] loss: 0.205\n",
            "[2,  1057] loss: 0.220\n",
            "[2,  1089] loss: 0.184\n",
            "[2,  1121] loss: 0.232\n",
            "[2,  1153] loss: 0.155\n",
            "[2,  1185] loss: 0.186\n",
            "[2,  1217] loss: 0.164\n",
            "[2,  1249] loss: 0.218\n",
            "[2,  1281] loss: 0.179\n",
            "[2,  1313] loss: 0.194\n",
            "[2,  1345] loss: 0.188\n",
            "[2,  1377] loss: 0.208\n",
            "[2,  1409] loss: 0.204\n",
            "[2,  1441] loss: 0.195\n",
            "[2,  1473] loss: 0.203\n",
            "[2,  1505] loss: 0.219\n",
            "[2,  1537] loss: 0.197\n",
            "[2,  1569] loss: 0.209\n",
            "[2,  1601] loss: 0.165\n",
            "[2,  1633] loss: 0.226\n",
            "[2,  1665] loss: 0.171\n",
            "[2,  1697] loss: 0.239\n",
            "[2,  1729] loss: 0.203\n",
            "[2,  1761] loss: 0.207\n",
            "[2,  1793] loss: 0.176\n",
            "[2,  1825] loss: 0.173\n",
            "[2,  1857] loss: 0.177\n",
            "[3,     1] loss: 0.009\n",
            "[3,    33] loss: 0.182\n",
            "[3,    65] loss: 0.181\n",
            "[3,    97] loss: 0.193\n",
            "[3,   129] loss: 0.191\n",
            "[3,   161] loss: 0.195\n",
            "[3,   193] loss: 0.183\n",
            "[3,   225] loss: 0.174\n",
            "[3,   257] loss: 0.183\n",
            "[3,   289] loss: 0.200\n",
            "[3,   321] loss: 0.187\n",
            "[3,   353] loss: 0.166\n",
            "[3,   385] loss: 0.215\n",
            "[3,   417] loss: 0.189\n",
            "[3,   449] loss: 0.181\n",
            "[3,   481] loss: 0.199\n",
            "[3,   513] loss: 0.214\n",
            "[3,   545] loss: 0.205\n",
            "[3,   577] loss: 0.184\n",
            "[3,   609] loss: 0.161\n",
            "[3,   641] loss: 0.163\n",
            "[3,   673] loss: 0.178\n",
            "[3,   705] loss: 0.153\n",
            "[3,   737] loss: 0.176\n",
            "[3,   769] loss: 0.185\n",
            "[3,   801] loss: 0.177\n",
            "[3,   833] loss: 0.140\n",
            "[3,   865] loss: 0.150\n",
            "[3,   897] loss: 0.156\n",
            "[3,   929] loss: 0.147\n",
            "[3,   961] loss: 0.206\n",
            "[3,   993] loss: 0.132\n",
            "[3,  1025] loss: 0.160\n",
            "[3,  1057] loss: 0.156\n",
            "[3,  1089] loss: 0.159\n",
            "[3,  1121] loss: 0.185\n",
            "[3,  1153] loss: 0.182\n",
            "[3,  1185] loss: 0.162\n",
            "[3,  1217] loss: 0.172\n",
            "[3,  1249] loss: 0.163\n",
            "[3,  1281] loss: 0.167\n",
            "[3,  1313] loss: 0.163\n",
            "[3,  1345] loss: 0.160\n",
            "[3,  1377] loss: 0.170\n",
            "[3,  1409] loss: 0.191\n",
            "[3,  1441] loss: 0.158\n",
            "[3,  1473] loss: 0.169\n",
            "[3,  1505] loss: 0.151\n",
            "[3,  1537] loss: 0.195\n",
            "[3,  1569] loss: 0.192\n",
            "[3,  1601] loss: 0.175\n",
            "[3,  1633] loss: 0.158\n",
            "[3,  1665] loss: 0.188\n",
            "[3,  1697] loss: 0.174\n",
            "[3,  1729] loss: 0.186\n",
            "[3,  1761] loss: 0.145\n",
            "[3,  1793] loss: 0.168\n",
            "[3,  1825] loss: 0.151\n",
            "[3,  1857] loss: 0.153\n",
            "Finished Training\n"
          ]
        }
      ]
    },
    {
      "cell_type": "markdown",
      "source": [
        "### **Test the Network**"
      ],
      "metadata": {
        "id": "XnqNJjGki4JZ"
      }
    },
    {
      "cell_type": "code",
      "source": [
        "# test feature와 label을 test_loader로부터 가져오기\n",
        "test_features, test_labels = next(iter(test_loader))\n",
        "print(f\"Feature batch shape: {test_features.size()}\")\n",
        "print(f\"Labels batch shape: {test_labels.size()}\")"
      ],
      "metadata": {
        "id": "CO1AMDEAjGrK",
        "colab": {
          "base_uri": "https://localhost:8080/"
        },
        "outputId": "6f9a43cd-3ae5-442e-e8c0-69fe1e3d8de4"
      },
      "execution_count": 73,
      "outputs": [
        {
          "output_type": "stream",
          "name": "stdout",
          "text": [
            "Feature batch shape: torch.Size([32, 1, 28, 28])\n",
            "Labels batch shape: torch.Size([32])\n"
          ]
        }
      ]
    },
    {
      "cell_type": "code",
      "source": [
        "# 1개 이미지 확인해보기\n",
        "\n",
        "logits = model(test_features[0]) # 일부 백그라운드 연산들과 함께 모델의 forward 를 실행 \n",
        "pred_probab = nn.Softmax(dim=1)(logits)\n",
        "y_pred = pred_probab.argmax(1)\n",
        "\n",
        "\n",
        "img = test_features[0].squeeze()\n",
        "label = test_labels[0]\n",
        "\n",
        "plt.imshow(img, cmap=\"gray\")\n",
        "plt.show()\n",
        "print(f\"Predicted class: {y_pred}\")\n",
        "print(f\"Label: {label}\")"
      ],
      "metadata": {
        "id": "bgC3vITkjWdU",
        "colab": {
          "base_uri": "https://localhost:8080/",
          "height": 302
        },
        "outputId": "be0dabef-a078-4ef1-9f70-90c0baa93197"
      },
      "execution_count": 74,
      "outputs": [
        {
          "output_type": "display_data",
          "data": {
            "text/plain": [
              "<Figure size 432x288 with 1 Axes>"
            ],
            "image/png": "[encoded data removed]"
          },
          "metadata": {
            "needs_background": "light"
          }
        },
        {
          "output_type": "stream",
          "name": "stdout",
          "text": [
            "Predicted class: tensor([4])\n",
            "Label: 4\n"
          ]
        }
      ]
    },
    {
      "cell_type": "code",
      "source": [
        "# 전체 test data에 대한 결과 확인\n",
        "correct = 0\n",
        "total = 0\n",
        "\n",
        "with torch.no_grad(): # 모델을 학습하는 것이 아니므로 gradient 계산을 할 필요가 없음\n",
        "    for data in test_loader:\n",
        "        images, labels = data\n",
        "        outputs = model(images)\n",
        "        _, predicted = torch.max(outputs.data, 1)\n",
        "        total += labels.size(0)\n",
        "        correct += (predicted == labels).sum().item()\n",
        "\n",
        "print(f'Accuracy of the network on the test images: {100 * correct // total} %')"
      ],
      "metadata": {
        "id": "RE_tglcsmmRD",
        "colab": {
          "base_uri": "https://localhost:8080/"
        },
        "outputId": "c396eea6-a296-4d20-ba36-4d3884b25be7"
      },
      "execution_count": 75,
      "outputs": [
        {
          "output_type": "stream",
          "name": "stdout",
          "text": [
            "Accuracy of the network on the test images: 95 %\n"
          ]
        }
      ]
    }
  ]
}